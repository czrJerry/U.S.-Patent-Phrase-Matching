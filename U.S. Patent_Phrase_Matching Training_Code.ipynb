{
  "cells": [
    {
      "cell_type": "markdown",
      "metadata": {
        "id": "89vvyfMnQXGm"
      },
      "source": [
        "Version 3-4a\n",
        "BASELINE\n",
        "autodl-A5000\n",
        "\n",
        "调参lr\n",
        "\n",
        "learning rate upper bound -> 2.66\n",
        "\n",
        "fold0 2.60 0.8686\n",
        "fold0 2.65 0.8696\n",
        "fold0 2.66 0.8704\n",
        "fold0 2.70 0.8695\n",
        "fold0 2.75 0.8683\n",
        "fold0 2.80 0.8674\n",
        "fold0 3.00 0.8678\n",
        "fold0 4.00 0.8656\n",
        "\n",
        "v3-3\n",
        "*   Fold0: 0.8678\n",
        "*   Fold1: 0.8614\n",
        "*   Fold2: 0.8628\n",
        "*   Fold3: 0.8549\n",
        "*   Fold4: 0.8649\n",
        "*   CV: 0.8621\n",
        "*   PB: 0.8402\n",
        "\n",
        "now\n",
        "*   Fold0: 0.8706\n",
        "*   Fold1: 0.8624\n",
        "*   Fold2: 0.8631\n",
        "*   Fold3: 0.8580\n",
        "*   Fold4: 0.8632\n",
        "*   CV: 0.8634\n",
        "*   PB: 0.8382\n",
        "\n",
        "\n",
        "\n",
        "\n",
        "\n",
        "\n",
        "\n",
        "\n",
        "\n"
      ]
    },
    {
      "cell_type": "markdown",
      "metadata": {
        "id": "12QEK2o1P_x8"
      },
      "source": [
        "## 3 Config"
      ]
    },
    {
      "cell_type": "code",
      "execution_count": null,
      "metadata": {
        "id": "52ionrLADHmE"
      },
      "outputs": [],
      "source": [
        "import os\n",
        "os.kill(os.getpid(), 9)"
      ]
    },
    {
      "cell_type": "code",
      "execution_count": null,
      "metadata": {
        "id": "nuhbpFSC1Y83"
      },
      "outputs": [],
      "source": [
        "import os\n",
        "\n",
        "version = 'v3-4a'\n",
        "INPUT_DIR = 'us-patent-phrase-to-phrase-matching/'\n",
        "OUTPUT_DIR = 'autodl-tmp/' + version + '/'\n",
        "if not os.path.exists(OUTPUT_DIR):\n",
        "    os.makedirs(OUTPUT_DIR)"
      ]
    },
    {
      "cell_type": "code",
      "execution_count": null,
      "metadata": {
        "id": "ZAoOnkck3w4A"
      },
      "outputs": [],
      "source": [
        "class CFG:\n",
        "    wandb=False\n",
        "    #competition='PPPM'\n",
        "    #_wandb_kernel='nakama'\n",
        "    debug=False\n",
        "    apex=True\n",
        "    print_freq=100\n",
        "    num_workers=4\n",
        "    model=\"microsoft/deberta-v3-large\"\n",
        "    scheduler='cosine' # ['linear', 'cosine']\n",
        "    batch_scheduler=True\n",
        "    num_cycles=0.5\n",
        "    num_warmup_steps=456 #10%\n",
        "    epochs=5\n",
        "    encoder_lr=2.66e-5\n",
        "    decoder_lr=2.66e-5\n",
        "    min_lr=1e-6\n",
        "    eps=1e-6\n",
        "    betas=(0.9, 0.999)\n",
        "    batch_size=32\n",
        "    fc_dropout=0.2\n",
        "    target_size=1\n",
        "    max_len=512\n",
        "    weight_decay=0.01\n",
        "    gradient_accumulation_steps=1\n",
        "    max_grad_norm=1000\n",
        "    seed=1995\n",
        "    n_fold=5\n",
        "    trn_fold=[0, 1, 2, 3, 4]\n",
        "    train=True\n",
        "    \n",
        "if CFG.debug:\n",
        "    CFG.epochs = 2\n",
        "    CFG.trn_fold = [0]"
      ]
    },
    {
      "cell_type": "markdown",
      "metadata": {
        "id": "kjY84uyrQB_t"
      },
      "source": [
        "## 4 Data Process"
      ]
    },
    {
      "cell_type": "code",
      "execution_count": null,
      "metadata": {
        "colab": {
          "base_uri": "https://localhost:8080/"
        },
        "id": "H-_rV-D54X6Q",
        "outputId": "77445e94-a97d-40bc-b867-a00a087670a0"
      },
      "outputs": [
        {
          "name": "stdout",
          "output_type": "stream",
          "text": [
            "torch.__version__: 1.10.0+cu113\n",
            "tokenizers.__version__: 0.12.1\n",
            "transformers.__version__: 4.19.2\n",
            "env: TOKENIZERS_PARALLELISM=true\n"
          ]
        }
      ],
      "source": [
        "import os\n",
        "import gc\n",
        "import re\n",
        "import ast\n",
        "import sys\n",
        "import copy\n",
        "import json\n",
        "import time\n",
        "import math\n",
        "import shutil\n",
        "import string\n",
        "import pickle\n",
        "import random\n",
        "import joblib\n",
        "import itertools\n",
        "from pathlib import Path\n",
        "import warnings\n",
        "warnings.filterwarnings(\"ignore\")\n",
        "\n",
        "import scipy as sp\n",
        "import numpy as np\n",
        "import pandas as pd\n",
        "pd.set_option('display.max_rows', 500)\n",
        "pd.set_option('display.max_columns', 500)\n",
        "pd.set_option('display.width', 1000)\n",
        "from tqdm.auto import tqdm\n",
        "from sklearn.metrics import f1_score\n",
        "from sklearn.model_selection import StratifiedKFold, GroupKFold, KFold\n",
        "\n",
        "import torch\n",
        "print(f\"torch.__version__: {torch.__version__}\")\n",
        "import torch.nn as nn\n",
        "from torch.nn import Parameter\n",
        "import torch.nn.functional as F\n",
        "from torch.optim import Adam, SGD, AdamW\n",
        "from torch.utils.data import DataLoader, Dataset\n",
        "\n",
        "import tokenizers\n",
        "import transformers\n",
        "print(f\"tokenizers.__version__: {tokenizers.__version__}\")\n",
        "print(f\"transformers.__version__: {transformers.__version__}\")\n",
        "from transformers import AutoTokenizer, AutoModel, AutoConfig\n",
        "from transformers import get_linear_schedule_with_warmup, get_cosine_schedule_with_warmup\n",
        "%env TOKENIZERS_PARALLELISM=true\n",
        "\n",
        "device = torch.device('cuda' if torch.cuda.is_available() else 'cpu')"
      ]
    },
    {
      "cell_type": "code",
      "execution_count": null,
      "metadata": {
        "id": "0OjHkEx_5FVM"
      },
      "outputs": [],
      "source": [
        "def get_score(y_true, y_pred):\n",
        "    score = sp.stats.pearsonr(y_true, y_pred)[0]\n",
        "    return score\n",
        "\n",
        "\n",
        "def get_logger(filename=OUTPUT_DIR+'train'):\n",
        "    from logging import getLogger, INFO, StreamHandler, FileHandler, Formatter\n",
        "    logger = getLogger(__name__)\n",
        "    logger.setLevel(INFO)\n",
        "    handler1 = StreamHandler()\n",
        "    handler1.setFormatter(Formatter(\"%(message)s\"))\n",
        "    handler2 = FileHandler(filename=f\"{filename}.log\")\n",
        "    handler2.setFormatter(Formatter(\"%(message)s\"))\n",
        "    logger.addHandler(handler1)\n",
        "    logger.addHandler(handler2)\n",
        "    return logger\n",
        "\n",
        "LOGGER = get_logger()\n",
        "\n",
        "def seed_everything(seed=42):\n",
        "    random.seed(seed)\n",
        "    os.environ['PYTHONHASHSEED'] = str(seed)\n",
        "    np.random.seed(seed)\n",
        "    torch.manual_seed(seed)\n",
        "    torch.cuda.manual_seed(seed)\n",
        "    torch.backends.cudnn.deterministic = True\n",
        "    \n",
        "seed_everything(seed=42)"
      ]
    },
    {
      "cell_type": "code",
      "execution_count": null,
      "metadata": {
        "colab": {
          "base_uri": "https://localhost:8080/",
          "height": 638
        },
        "id": "fT3JjwS45PS3",
        "outputId": "9ebef631-ac23-4faa-d556-796d8ad3f099"
      },
      "outputs": [
        {
          "name": "stdout",
          "output_type": "stream",
          "text": [
            "train.shape: (36473, 5)\n",
            "test.shape: (36, 4)\n",
            "submission.shape: (36, 2)\n"
          ]
        },
        {
          "data": {
            "text/html": [
              "<div>\n",
              "<style scoped>\n",
              "    .dataframe tbody tr th:only-of-type {\n",
              "        vertical-align: middle;\n",
              "    }\n",
              "\n",
              "    .dataframe tbody tr th {\n",
              "        vertical-align: top;\n",
              "    }\n",
              "\n",
              "    .dataframe thead th {\n",
              "        text-align: right;\n",
              "    }\n",
              "</style>\n",
              "<table border=\"1\" class=\"dataframe\">\n",
              "  <thead>\n",
              "    <tr style=\"text-align: right;\">\n",
              "      <th></th>\n",
              "      <th>id</th>\n",
              "      <th>anchor</th>\n",
              "      <th>target</th>\n",
              "      <th>context</th>\n",
              "      <th>score</th>\n",
              "    </tr>\n",
              "  </thead>\n",
              "  <tbody>\n",
              "    <tr>\n",
              "      <th>0</th>\n",
              "      <td>37d61fd2272659b1</td>\n",
              "      <td>abatement</td>\n",
              "      <td>abatement of pollution</td>\n",
              "      <td>A47</td>\n",
              "      <td>0.50</td>\n",
              "    </tr>\n",
              "    <tr>\n",
              "      <th>1</th>\n",
              "      <td>7b9652b17b68b7a4</td>\n",
              "      <td>abatement</td>\n",
              "      <td>act of abating</td>\n",
              "      <td>A47</td>\n",
              "      <td>0.75</td>\n",
              "    </tr>\n",
              "    <tr>\n",
              "      <th>2</th>\n",
              "      <td>36d72442aefd8232</td>\n",
              "      <td>abatement</td>\n",
              "      <td>active catalyst</td>\n",
              "      <td>A47</td>\n",
              "      <td>0.25</td>\n",
              "    </tr>\n",
              "    <tr>\n",
              "      <th>3</th>\n",
              "      <td>5296b0c19e1ce60e</td>\n",
              "      <td>abatement</td>\n",
              "      <td>eliminating process</td>\n",
              "      <td>A47</td>\n",
              "      <td>0.50</td>\n",
              "    </tr>\n",
              "    <tr>\n",
              "      <th>4</th>\n",
              "      <td>54c1e3b9184cb5b6</td>\n",
              "      <td>abatement</td>\n",
              "      <td>forest region</td>\n",
              "      <td>A47</td>\n",
              "      <td>0.00</td>\n",
              "    </tr>\n",
              "  </tbody>\n",
              "</table>\n",
              "</div>"
            ],
            "text/plain": [
              "                 id     anchor                  target context  score\n",
              "0  37d61fd2272659b1  abatement  abatement of pollution     A47   0.50\n",
              "1  7b9652b17b68b7a4  abatement          act of abating     A47   0.75\n",
              "2  36d72442aefd8232  abatement         active catalyst     A47   0.25\n",
              "3  5296b0c19e1ce60e  abatement     eliminating process     A47   0.50\n",
              "4  54c1e3b9184cb5b6  abatement           forest region     A47   0.00"
            ]
          },
          "metadata": {},
          "output_type": "display_data"
        },
        {
          "data": {
            "text/html": [
              "<div>\n",
              "<style scoped>\n",
              "    .dataframe tbody tr th:only-of-type {\n",
              "        vertical-align: middle;\n",
              "    }\n",
              "\n",
              "    .dataframe tbody tr th {\n",
              "        vertical-align: top;\n",
              "    }\n",
              "\n",
              "    .dataframe thead th {\n",
              "        text-align: right;\n",
              "    }\n",
              "</style>\n",
              "<table border=\"1\" class=\"dataframe\">\n",
              "  <thead>\n",
              "    <tr style=\"text-align: right;\">\n",
              "      <th></th>\n",
              "      <th>id</th>\n",
              "      <th>anchor</th>\n",
              "      <th>target</th>\n",
              "      <th>context</th>\n",
              "    </tr>\n",
              "  </thead>\n",
              "  <tbody>\n",
              "    <tr>\n",
              "      <th>0</th>\n",
              "      <td>4112d61851461f60</td>\n",
              "      <td>opc drum</td>\n",
              "      <td>inorganic photoconductor drum</td>\n",
              "      <td>G02</td>\n",
              "    </tr>\n",
              "    <tr>\n",
              "      <th>1</th>\n",
              "      <td>09e418c93a776564</td>\n",
              "      <td>adjust gas flow</td>\n",
              "      <td>altering gas flow</td>\n",
              "      <td>F23</td>\n",
              "    </tr>\n",
              "    <tr>\n",
              "      <th>2</th>\n",
              "      <td>36baf228038e314b</td>\n",
              "      <td>lower trunnion</td>\n",
              "      <td>lower locating</td>\n",
              "      <td>B60</td>\n",
              "    </tr>\n",
              "    <tr>\n",
              "      <th>3</th>\n",
              "      <td>1f37ead645e7f0c8</td>\n",
              "      <td>cap component</td>\n",
              "      <td>upper portion</td>\n",
              "      <td>D06</td>\n",
              "    </tr>\n",
              "    <tr>\n",
              "      <th>4</th>\n",
              "      <td>71a5b6ad068d531f</td>\n",
              "      <td>neural stimulation</td>\n",
              "      <td>artificial neural network</td>\n",
              "      <td>H04</td>\n",
              "    </tr>\n",
              "  </tbody>\n",
              "</table>\n",
              "</div>"
            ],
            "text/plain": [
              "                 id              anchor                         target context\n",
              "0  4112d61851461f60            opc drum  inorganic photoconductor drum     G02\n",
              "1  09e418c93a776564     adjust gas flow              altering gas flow     F23\n",
              "2  36baf228038e314b      lower trunnion                 lower locating     B60\n",
              "3  1f37ead645e7f0c8       cap component                  upper portion     D06\n",
              "4  71a5b6ad068d531f  neural stimulation      artificial neural network     H04"
            ]
          },
          "metadata": {},
          "output_type": "display_data"
        },
        {
          "data": {
            "text/html": [
              "<div>\n",
              "<style scoped>\n",
              "    .dataframe tbody tr th:only-of-type {\n",
              "        vertical-align: middle;\n",
              "    }\n",
              "\n",
              "    .dataframe tbody tr th {\n",
              "        vertical-align: top;\n",
              "    }\n",
              "\n",
              "    .dataframe thead th {\n",
              "        text-align: right;\n",
              "    }\n",
              "</style>\n",
              "<table border=\"1\" class=\"dataframe\">\n",
              "  <thead>\n",
              "    <tr style=\"text-align: right;\">\n",
              "      <th></th>\n",
              "      <th>id</th>\n",
              "      <th>score</th>\n",
              "    </tr>\n",
              "  </thead>\n",
              "  <tbody>\n",
              "    <tr>\n",
              "      <th>0</th>\n",
              "      <td>4112d61851461f60</td>\n",
              "      <td>0</td>\n",
              "    </tr>\n",
              "    <tr>\n",
              "      <th>1</th>\n",
              "      <td>09e418c93a776564</td>\n",
              "      <td>0</td>\n",
              "    </tr>\n",
              "    <tr>\n",
              "      <th>2</th>\n",
              "      <td>36baf228038e314b</td>\n",
              "      <td>0</td>\n",
              "    </tr>\n",
              "    <tr>\n",
              "      <th>3</th>\n",
              "      <td>1f37ead645e7f0c8</td>\n",
              "      <td>0</td>\n",
              "    </tr>\n",
              "    <tr>\n",
              "      <th>4</th>\n",
              "      <td>71a5b6ad068d531f</td>\n",
              "      <td>0</td>\n",
              "    </tr>\n",
              "  </tbody>\n",
              "</table>\n",
              "</div>"
            ],
            "text/plain": [
              "                 id  score\n",
              "0  4112d61851461f60      0\n",
              "1  09e418c93a776564      0\n",
              "2  36baf228038e314b      0\n",
              "3  1f37ead645e7f0c8      0\n",
              "4  71a5b6ad068d531f      0"
            ]
          },
          "metadata": {},
          "output_type": "display_data"
        }
      ],
      "source": [
        "train = pd.read_csv(INPUT_DIR+'train.csv')\n",
        "test = pd.read_csv(INPUT_DIR+'test.csv')\n",
        "submission = pd.read_csv(INPUT_DIR+'sample_submission.csv')\n",
        "print(f\"train.shape: {train.shape}\")\n",
        "print(f\"test.shape: {test.shape}\")\n",
        "print(f\"submission.shape: {submission.shape}\")\n",
        "display(train.head())\n",
        "display(test.head())\n",
        "display(submission.head())"
      ]
    },
    {
      "cell_type": "code",
      "execution_count": null,
      "metadata": {
        "colab": {
          "base_uri": "https://localhost:8080/",
          "height": 526
        },
        "id": "KCNwEXE35ULH",
        "outputId": "3180f47c-bd7b-4b25-f1d4-421278d1e8e3"
      },
      "outputs": [
        {
          "data": {
            "text/html": [
              "<div>\n",
              "<style scoped>\n",
              "    .dataframe tbody tr th:only-of-type {\n",
              "        vertical-align: middle;\n",
              "    }\n",
              "\n",
              "    .dataframe tbody tr th {\n",
              "        vertical-align: top;\n",
              "    }\n",
              "\n",
              "    .dataframe thead th {\n",
              "        text-align: right;\n",
              "    }\n",
              "</style>\n",
              "<table border=\"1\" class=\"dataframe\">\n",
              "  <thead>\n",
              "    <tr style=\"text-align: right;\">\n",
              "      <th></th>\n",
              "      <th>id</th>\n",
              "      <th>anchor</th>\n",
              "      <th>target</th>\n",
              "      <th>context</th>\n",
              "      <th>score</th>\n",
              "      <th>context_text</th>\n",
              "    </tr>\n",
              "  </thead>\n",
              "  <tbody>\n",
              "    <tr>\n",
              "      <th>0</th>\n",
              "      <td>37d61fd2272659b1</td>\n",
              "      <td>abatement</td>\n",
              "      <td>abatement of pollution</td>\n",
              "      <td>A47</td>\n",
              "      <td>0.50</td>\n",
              "      <td>HUMAN NECESSITIES. FURNITURE; DOMESTIC ARTICLE...</td>\n",
              "    </tr>\n",
              "    <tr>\n",
              "      <th>1</th>\n",
              "      <td>7b9652b17b68b7a4</td>\n",
              "      <td>abatement</td>\n",
              "      <td>act of abating</td>\n",
              "      <td>A47</td>\n",
              "      <td>0.75</td>\n",
              "      <td>HUMAN NECESSITIES. FURNITURE; DOMESTIC ARTICLE...</td>\n",
              "    </tr>\n",
              "    <tr>\n",
              "      <th>2</th>\n",
              "      <td>36d72442aefd8232</td>\n",
              "      <td>abatement</td>\n",
              "      <td>active catalyst</td>\n",
              "      <td>A47</td>\n",
              "      <td>0.25</td>\n",
              "      <td>HUMAN NECESSITIES. FURNITURE; DOMESTIC ARTICLE...</td>\n",
              "    </tr>\n",
              "    <tr>\n",
              "      <th>3</th>\n",
              "      <td>5296b0c19e1ce60e</td>\n",
              "      <td>abatement</td>\n",
              "      <td>eliminating process</td>\n",
              "      <td>A47</td>\n",
              "      <td>0.50</td>\n",
              "      <td>HUMAN NECESSITIES. FURNITURE; DOMESTIC ARTICLE...</td>\n",
              "    </tr>\n",
              "    <tr>\n",
              "      <th>4</th>\n",
              "      <td>54c1e3b9184cb5b6</td>\n",
              "      <td>abatement</td>\n",
              "      <td>forest region</td>\n",
              "      <td>A47</td>\n",
              "      <td>0.00</td>\n",
              "      <td>HUMAN NECESSITIES. FURNITURE; DOMESTIC ARTICLE...</td>\n",
              "    </tr>\n",
              "  </tbody>\n",
              "</table>\n",
              "</div>"
            ],
            "text/plain": [
              "                 id     anchor                  target context  score                                       context_text\n",
              "0  37d61fd2272659b1  abatement  abatement of pollution     A47   0.50  HUMAN NECESSITIES. FURNITURE; DOMESTIC ARTICLE...\n",
              "1  7b9652b17b68b7a4  abatement          act of abating     A47   0.75  HUMAN NECESSITIES. FURNITURE; DOMESTIC ARTICLE...\n",
              "2  36d72442aefd8232  abatement         active catalyst     A47   0.25  HUMAN NECESSITIES. FURNITURE; DOMESTIC ARTICLE...\n",
              "3  5296b0c19e1ce60e  abatement     eliminating process     A47   0.50  HUMAN NECESSITIES. FURNITURE; DOMESTIC ARTICLE...\n",
              "4  54c1e3b9184cb5b6  abatement           forest region     A47   0.00  HUMAN NECESSITIES. FURNITURE; DOMESTIC ARTICLE..."
            ]
          },
          "metadata": {},
          "output_type": "display_data"
        },
        {
          "data": {
            "text/html": [
              "<div>\n",
              "<style scoped>\n",
              "    .dataframe tbody tr th:only-of-type {\n",
              "        vertical-align: middle;\n",
              "    }\n",
              "\n",
              "    .dataframe tbody tr th {\n",
              "        vertical-align: top;\n",
              "    }\n",
              "\n",
              "    .dataframe thead th {\n",
              "        text-align: right;\n",
              "    }\n",
              "</style>\n",
              "<table border=\"1\" class=\"dataframe\">\n",
              "  <thead>\n",
              "    <tr style=\"text-align: right;\">\n",
              "      <th></th>\n",
              "      <th>id</th>\n",
              "      <th>anchor</th>\n",
              "      <th>target</th>\n",
              "      <th>context</th>\n",
              "      <th>context_text</th>\n",
              "    </tr>\n",
              "  </thead>\n",
              "  <tbody>\n",
              "    <tr>\n",
              "      <th>0</th>\n",
              "      <td>4112d61851461f60</td>\n",
              "      <td>opc drum</td>\n",
              "      <td>inorganic photoconductor drum</td>\n",
              "      <td>G02</td>\n",
              "      <td>PHYSICS. OPTICS</td>\n",
              "    </tr>\n",
              "    <tr>\n",
              "      <th>1</th>\n",
              "      <td>09e418c93a776564</td>\n",
              "      <td>adjust gas flow</td>\n",
              "      <td>altering gas flow</td>\n",
              "      <td>F23</td>\n",
              "      <td>MECHANICAL ENGINEERING; LIGHTING; HEATING; WEA...</td>\n",
              "    </tr>\n",
              "    <tr>\n",
              "      <th>2</th>\n",
              "      <td>36baf228038e314b</td>\n",
              "      <td>lower trunnion</td>\n",
              "      <td>lower locating</td>\n",
              "      <td>B60</td>\n",
              "      <td>PERFORMING OPERATIONS; TRANSPORTING. VEHICLES ...</td>\n",
              "    </tr>\n",
              "    <tr>\n",
              "      <th>3</th>\n",
              "      <td>1f37ead645e7f0c8</td>\n",
              "      <td>cap component</td>\n",
              "      <td>upper portion</td>\n",
              "      <td>D06</td>\n",
              "      <td>TEXTILES; PAPER. TREATMENT OF TEXTILES OR THE ...</td>\n",
              "    </tr>\n",
              "    <tr>\n",
              "      <th>4</th>\n",
              "      <td>71a5b6ad068d531f</td>\n",
              "      <td>neural stimulation</td>\n",
              "      <td>artificial neural network</td>\n",
              "      <td>H04</td>\n",
              "      <td>ELECTRICITY. ELECTRIC COMMUNICATION TECHNIQUE</td>\n",
              "    </tr>\n",
              "  </tbody>\n",
              "</table>\n",
              "</div>"
            ],
            "text/plain": [
              "                 id              anchor                         target context                                       context_text\n",
              "0  4112d61851461f60            opc drum  inorganic photoconductor drum     G02                                    PHYSICS. OPTICS\n",
              "1  09e418c93a776564     adjust gas flow              altering gas flow     F23  MECHANICAL ENGINEERING; LIGHTING; HEATING; WEA...\n",
              "2  36baf228038e314b      lower trunnion                 lower locating     B60  PERFORMING OPERATIONS; TRANSPORTING. VEHICLES ...\n",
              "3  1f37ead645e7f0c8       cap component                  upper portion     D06  TEXTILES; PAPER. TREATMENT OF TEXTILES OR THE ...\n",
              "4  71a5b6ad068d531f  neural stimulation      artificial neural network     H04      ELECTRICITY. ELECTRIC COMMUNICATION TECHNIQUE"
            ]
          },
          "metadata": {},
          "output_type": "display_data"
        }
      ],
      "source": [
        "def get_cpc_texts():\n",
        "    contexts = []\n",
        "    pattern = '[A-Z]\\d+'\n",
        "    for file_name in os.listdir('cpc-data/CPCSchemeXML202105'):\n",
        "        result = re.findall(pattern, file_name)\n",
        "        if result:\n",
        "            contexts.append(result)\n",
        "    contexts = sorted(set(sum(contexts, [])))\n",
        "    results = {}\n",
        "    for cpc in ['A', 'B', 'C', 'D', 'E', 'F', 'G', 'H', 'Y']:\n",
        "        with open(f'cpc-data/CPCTitleList202202/cpc-section-{cpc}_20220201.txt') as f:\n",
        "            s = f.read()\n",
        "        pattern = f'{cpc}\\t\\t.+'\n",
        "        result = re.findall(pattern, s) #['A\\t\\tHUMAN NECESSITIES']\n",
        "        cpc_result = result[0].lstrip(pattern) #HUMAN NECESSITIES\n",
        "        for context in [c for c in contexts if c[0] == cpc]: # 'A01', 'A21', 'A22', 'A23'\n",
        "          pattern = f'{context}\\t\\t.+'\n",
        "          result = re.findall(pattern, s)\n",
        "          result1=''\n",
        "          for sub_context in ['A', 'B', 'C', 'D', 'E', 'F', 'G', 'H', 'Y']:\n",
        "            pattern0 = f'{context}{sub_context}\\t\\t.+'\n",
        "            result0 = re.findall(pattern0, s)\n",
        "            if result0:\n",
        "              result0=result0[0].lstrip(pattern0)\n",
        "              result0=re.sub(u'\\(.*?\\)','',result0)\n",
        "              # result0=re.sub(u'\\(.*?\\]','',result0)\n",
        "              result1=result1+\". \"+result0\n",
        "          results[context] = cpc_result + \". \" + result[0].lstrip(pattern)+result1\n",
        "    return results\n",
        "\n",
        "\n",
        "cpc_texts = get_cpc_texts()\n",
        "torch.save(cpc_texts, OUTPUT_DIR+\"cpc_texts.pth\")\n",
        "train['context_text'] = train['context'].map(cpc_texts)\n",
        "test['context_text'] = test['context'].map(cpc_texts)\n",
        "display(train.head())\n",
        "display(test.head())"
      ]
    },
    {
      "cell_type": "code",
      "source": [
        "def handle(x):\n",
        "  return x.replace(' .', '.').replace(' ;', ';').rstrip()"
      ],
      "metadata": {
        "id": "q_odEfR_He8j"
      },
      "execution_count": null,
      "outputs": []
    },
    {
      "cell_type": "code",
      "source": [
        "train['context_text']=train['context_text'].apply(handle)"
      ],
      "metadata": {
        "id": "1U5_5d63Hfcu"
      },
      "execution_count": null,
      "outputs": []
    },
    {
      "cell_type": "code",
      "source": [
        "train.loc[196,'context_text']"
      ],
      "metadata": {
        "id": "33Y5I3VUHg-1"
      },
      "execution_count": null,
      "outputs": []
    },
    {
      "cell_type": "code",
      "source": [
        "train['text'] = train['anchor'] + '[SEP]' + train['target'] + '[SEP]'  + train['context_text']\n",
        "test['text'] = test['anchor'] + '[SEP]' + test['target'] + '[SEP]'  + test['context_text']\n",
        "display(train.head())\n",
        "display(test.head())"
      ],
      "metadata": {
        "id": "9spiSu-tHiiT"
      },
      "execution_count": null,
      "outputs": []
    },
    {
      "cell_type": "code",
      "execution_count": null,
      "metadata": {
        "colab": {
          "base_uri": "https://localhost:8080/",
          "height": 53
        },
        "id": "cS4japRsKfZo",
        "outputId": "2865d7c4-cea0-4afa-a03a-5cc1085c7699"
      },
      "outputs": [
        {
          "data": {
            "text/plain": [
              "'adjust gas flow[SEP]altering gas flow[SEP]MECHANICAL ENGINEERING; LIGHTING; HEATING; WEAPONS; BLASTING. COMBUSTION APPARATUS; COMBUSTION PROCESSES'"
            ]
          },
          "execution_count": 8,
          "metadata": {},
          "output_type": "execute_result"
        }
      ],
      "source": [
        "test.loc[1].text"
      ]
    },
    {
      "cell_type": "code",
      "execution_count": null,
      "metadata": {
        "colab": {
          "base_uri": "https://localhost:8080/",
          "height": 283
        },
        "id": "bVz-hyxWLBgc",
        "outputId": "b8e317f6-dc30-4364-ad9c-a0b9e5b268aa"
      },
      "outputs": [
        {
          "data": {
            "text/plain": [
              "<AxesSubplot:>"
            ]
          },
          "execution_count": 9,
          "metadata": {},
          "output_type": "execute_result"
        },
        {
          "data": {
            "image/png": "[encoded data removed]",
            "text/plain": [
              "<Figure size 432x288 with 1 Axes>"
            ]
          },
          "metadata": {
            "needs_background": "light"
          },
          "output_type": "display_data"
        }
      ],
      "source": [
        "train['score'].hist()"
      ]
    },
    {
      "cell_type": "code",
      "execution_count": null,
      "metadata": {
        "colab": {
          "base_uri": "https://localhost:8080/",
          "height": 178
        },
        "id": "WCDmRJA3LEx7",
        "outputId": "aeb09c34-ef59-4aad-931f-170e8abf959a"
      },
      "outputs": [
        {
          "data": {
            "text/plain": [
              "B    8019\n",
              "H    6195\n",
              "G    6013\n",
              "C    5288\n",
              "A    4094\n",
              "F    4054\n",
              "E    1531\n",
              "D    1279\n",
              "Name: context, dtype: int64"
            ]
          },
          "metadata": {},
          "output_type": "display_data"
        }
      ],
      "source": [
        "display(train['context'].apply(lambda x: x[0]).value_counts())"
      ]
    },
    {
      "cell_type": "code",
      "execution_count": null,
      "metadata": {
        "colab": {
          "base_uri": "https://localhost:8080/",
          "height": 124
        },
        "id": "Xgs7qyEPLHcj",
        "outputId": "4b851ea9-874c-4718-d51f-e8e96b5b9faa"
      },
      "outputs": [
        {
          "data": {
            "text/plain": [
              "fold\n",
              "0    7295\n",
              "1    7295\n",
              "2    7295\n",
              "3    7294\n",
              "4    7294\n",
              "dtype: int64"
            ]
          },
          "metadata": {},
          "output_type": "display_data"
        }
      ],
      "source": [
        "train['score_map'] = train['score'].map({0.00: 0, 0.25: 1, 0.50: 2, 0.75: 3, 1.00: 4})\n",
        "Fold = StratifiedKFold(n_splits=CFG.n_fold, shuffle=True, random_state=CFG.seed)\n",
        "for n, (train_index, val_index) in enumerate(Fold.split(train, train['score_map'])):\n",
        "    train.loc[val_index, 'fold'] = int(n)\n",
        "train['fold'] = train['fold'].astype(int)\n",
        "display(train.groupby('fold').size())"
      ]
    },
    {
      "cell_type": "code",
      "execution_count": null,
      "metadata": {
        "id": "rEWG-eium4ll"
      },
      "outputs": [],
      "source": [
        "train.to_csv(OUTPUT_DIR + 'train_fold5.csv', index = False)"
      ]
    },
    {
      "cell_type": "markdown",
      "metadata": {
        "id": "Yg3SMoHmQO0b"
      },
      "source": [
        "## 5 Model"
      ]
    },
    {
      "cell_type": "code",
      "execution_count": null,
      "metadata": {
        "id": "-ZiYHBJ5LJys"
      },
      "outputs": [],
      "source": [
        "if CFG.debug:\n",
        "    display(train.groupby('fold').size())\n",
        "    train = train.sample(n=1000, random_state=0).reset_index(drop=True)\n",
        "    display(train.groupby('fold').size())"
      ]
    },
    {
      "cell_type": "code",
      "execution_count": null,
      "metadata": {
        "colab": {
          "base_uri": "https://localhost:8080/",
          "height": 35
        },
        "id": "bWy-R2ZBMlq_",
        "outputId": "8477b9fc-e259-4c86-da7a-6d91de1f8510"
      },
      "outputs": [
        {
          "data": {
            "text/plain": [
              "'microsoft/deberta-v3-large'"
            ]
          },
          "execution_count": 14,
          "metadata": {},
          "output_type": "execute_result"
        }
      ],
      "source": [
        "CFG.model"
      ]
    },
    {
      "cell_type": "code",
      "execution_count": null,
      "metadata": {
        "colab": {
          "base_uri": "https://localhost:8080/"
        },
        "id": "4aMPK370Lskp",
        "outputId": "fe4dcdec-aa34-4e78-9847-91cdec6d3888"
      },
      "outputs": [
        {
          "name": "stderr",
          "output_type": "stream",
          "text": [
            "Special tokens have been added in the vocabulary, make sure the associated word embeddings are fine-tuned or trained.\n",
            "Special tokens have been added in the vocabulary, make sure the associated word embeddings are fine-tuned or trained.\n"
          ]
        }
      ],
      "source": [
        "tokenizer = AutoTokenizer.from_pretrained(CFG.model)\n",
        "tokenizer.save_pretrained(OUTPUT_DIR+'tokenizer/')\n",
        "CFG.tokenizer = tokenizer"
      ]
    },
    {
      "cell_type": "code",
      "execution_count": null,
      "metadata": {
        "colab": {
          "base_uri": "https://localhost:8080/",
          "height": 131,
          "referenced_widgets": [
            "88322e65d0f84dd39a9240d3cb071f69",
            "759b41904eb44d91a941c0a9263be021",
            "3144b059c05f451d9b7dc153bf09d2bb",
            "3ecdb5f1b00d41ce8eba428e5c4ef667",
            "dfb258a948e14def9c72a12bf9c9ba11",
            "dfac83a056a44b8c9e9f91627cc8c5ee",
            "a2f7527e9cba42ef8c79b2f2b166a038",
            "765c121339614e62873570d9576ae866",
            "c77e2b3c3ca34359860a73010cf0d51d",
            "ec828b7ce6f14a55bf5ec56ed772775d",
            "e02f204ca65043c0aa529d8f00d0f7fc",
            "a0035925cc1347f59748505d03120897",
            "20076a58b6de48c2943e8bc79b88d79f",
            "9f7051ea349b441ea1f47437a846566e",
            "8c5369f14f79429dbc66efaa99727b31",
            "4963ea289bbe456fac766258ffd81fc8",
            "da2d6a44f76a4e18bbaf3df84c24a6a8",
            "014c191667ae4c62854aaf4882bf66ce",
            "da881b3d339b4da6bf1b2e5029d348a2",
            "7780e6f907844309baabc58ea28f96ef",
            "bac8a01fc24547bd88df336b62a55d71",
            "d21eb429ff4d4f4a94eafbdb14f52b7f",
            "16eae71475fb4d53a67114af16a1918f",
            "eb4b1c7049224cf8a0707fe5d85f759b",
            "44ffae46281e469b986b80c074857876",
            "957e9624d0c84878aef1d9a13732157c",
            "4dc64f8e51cf4f6581d5145b7c6c35f6",
            "b1dd16db7fb14826aadf03268af06244",
            "048d7520014a4f5b82731134c9555f3f",
            "0beaabe6d09847f49965e40ed7d6884f",
            "364e38307cc842eab835625e12f1c26c",
            "f1d956c177204e66901d31b388f03813",
            "463be345e99d4fb4b992b844d45b44d8",
            "9ef97bea81e044b89847396ec7c6f600",
            "cee51bc41b554448a1b587c0d1d9ef52",
            "d3be44dbe3c74d88a3ad95e5fd9b9a78"
          ]
        },
        "id": "Vqg46l8QND03",
        "outputId": "f6585ea4-0aa9-478d-a45e-03d137702064"
      },
      "outputs": [
        {
          "data": {
            "application/vnd.jupyter.widget-view+json": {
              "model_id": "9ef97bea81e044b89847396ec7c6f600",
              "version_major": 2,
              "version_minor": 0
            },
            "text/plain": [
              "  0%|          | 0/136 [00:00<?, ?it/s]"
            ]
          },
          "metadata": {},
          "output_type": "display_data"
        },
        {
          "data": {
            "application/vnd.jupyter.widget-view+json": {
              "model_id": "cee51bc41b554448a1b587c0d1d9ef52",
              "version_major": 2,
              "version_minor": 0
            },
            "text/plain": [
              "  0%|          | 0/36473 [00:00<?, ?it/s]"
            ]
          },
          "metadata": {},
          "output_type": "display_data"
        },
        {
          "data": {
            "application/vnd.jupyter.widget-view+json": {
              "model_id": "d3be44dbe3c74d88a3ad95e5fd9b9a78",
              "version_major": 2,
              "version_minor": 0
            },
            "text/plain": [
              "  0%|          | 0/36473 [00:00<?, ?it/s]"
            ]
          },
          "metadata": {},
          "output_type": "display_data"
        },
        {
          "name": "stderr",
          "output_type": "stream",
          "text": [
            "max_len: 133\n"
          ]
        }
      ],
      "source": [
        "lengths_dict = {}\n",
        "\n",
        "lengths = []\n",
        "tk0 = tqdm(cpc_texts.values(), total=len(cpc_texts))\n",
        "for text in tk0:\n",
        "    length = len(tokenizer(text, add_special_tokens=False)['input_ids'])\n",
        "    lengths.append(length)\n",
        "lengths_dict['context_text'] = lengths\n",
        "\n",
        "for text_col in ['anchor', 'target']:\n",
        "    lengths = []\n",
        "    tk0 = tqdm(train[text_col].fillna(\"\").values, total=len(train))\n",
        "    for text in tk0:\n",
        "        length = len(tokenizer(text, add_special_tokens=False)['input_ids'])\n",
        "        lengths.append(length)\n",
        "    lengths_dict[text_col] = lengths\n",
        "    \n",
        "CFG.max_len = max(lengths_dict['anchor']) + max(lengths_dict['target'])\\\n",
        "                + max(lengths_dict['context_text']) + 4 # CLS + SEP + SEP + SEP\n",
        "LOGGER.info(f\"max_len: {CFG.max_len}\")"
      ]
    },
    {
      "cell_type": "code",
      "execution_count": null,
      "metadata": {
        "id": "XnAe9qwJNHBe"
      },
      "outputs": [],
      "source": [
        "def prepare_input(cfg, text):\n",
        "    inputs = cfg.tokenizer(text,\n",
        "                           add_special_tokens=True,\n",
        "                           max_length=cfg.max_len,\n",
        "                           padding=\"max_length\",\n",
        "                           return_offsets_mapping=False)\n",
        "    for k, v in inputs.items():\n",
        "        inputs[k] = torch.tensor(v, dtype=torch.long)\n",
        "    return inputs\n",
        "\n",
        "\n",
        "class TrainDataset(Dataset):\n",
        "    def __init__(self, cfg, df):\n",
        "        self.cfg = cfg\n",
        "        self.texts = df['text'].values\n",
        "        self.labels = df['score'].values\n",
        "\n",
        "    def __len__(self):\n",
        "        return len(self.labels)\n",
        "\n",
        "    def __getitem__(self, item):\n",
        "        inputs = prepare_input(self.cfg, self.texts[item])\n",
        "        label = torch.tensor(self.labels[item], dtype=torch.float)\n",
        "        return inputs, label"
      ]
    },
    {
      "cell_type": "code",
      "execution_count": null,
      "metadata": {
        "id": "z3U9-073NMJn"
      },
      "outputs": [],
      "source": [
        "class CustomModel(nn.Module):\n",
        "    def __init__(self, cfg, config_path=None, pretrained=False):\n",
        "        super().__init__()\n",
        "        self.cfg = cfg\n",
        "        if config_path is None:\n",
        "            self.config = AutoConfig.from_pretrained(cfg.model, output_hidden_states=True)\n",
        "        else:\n",
        "            self.config = torch.load(config_path)\n",
        "        if pretrained:\n",
        "            self.model = AutoModel.from_pretrained(cfg.model, config=self.config)\n",
        "        else:\n",
        "            self.model = AutoModel.from_config(self.config)\n",
        "        self.fc_dropout = nn.Dropout(cfg.fc_dropout)\n",
        "        self.fc = nn.Linear(self.config.hidden_size, self.cfg.target_size)\n",
        "        self._init_weights(self.fc)\n",
        "        self.attention = nn.Sequential(\n",
        "            nn.Linear(self.config.hidden_size, 512),\n",
        "            nn.Tanh(),\n",
        "            nn.Linear(512, 1),\n",
        "            nn.Softmax(dim=1)\n",
        "        )\n",
        "        self.layer_norm1 = nn.LayerNorm(self.config.hidden_size)\n",
        "        self._init_weights(self.attention)\n",
        "        self.linear = nn.Linear(self.config.hidden_size, 1)\n",
        "    def _init_weights(self, module):\n",
        "        if isinstance(module, nn.Linear):\n",
        "            module.weight.data.normal_(mean=0.0, std=self.config.initializer_range)\n",
        "            if module.bias is not None:\n",
        "                module.bias.data.zero_()\n",
        "        elif isinstance(module, nn.Embedding):\n",
        "            module.weight.data.normal_(mean=0.0, std=self.config.initializer_range)\n",
        "            if module.padding_idx is not None:\n",
        "                module.weight.data[module.padding_idx].zero_()\n",
        "        elif isinstance(module, nn.LayerNorm):\n",
        "            module.bias.data.zero_()\n",
        "            module.weight.data.fill_(1.0)\n",
        "        \n",
        "    def feature(self, inputs):\n",
        "        outputs = self.model(**inputs)\n",
        "        last_hidden_states = outputs[0]\n",
        "        # feature = torch.mean(last_hidden_states, 1)\n",
        "        weights = self.attention(last_hidden_states)\n",
        "        feature = torch.sum(weights * last_hidden_states, dim=1)\n",
        "        return feature\n",
        "\n",
        "    def forward(self, inputs):\n",
        "        outputs = self.model(**inputs)\n",
        "        last_hidden_state = outputs[0]\n",
        "        input_mask_expanded = inputs[\"attention_mask\"].unsqueeze(-1).expand(last_hidden_state.size()).float()\n",
        "        sum_embeddings = torch.sum(last_hidden_state * input_mask_expanded, 1)\n",
        "        sum_mask = input_mask_expanded.sum(1)\n",
        "        sum_mask = torch.clamp(sum_mask, min=1e-9)\n",
        "        out = sum_embeddings / sum_mask\n",
        "        \n",
        "        out = self.layer_norm1(out)\n",
        "        output = self.fc(out)\n",
        "        \n",
        "        \n",
        "        return output"
      ]
    },
    {
      "cell_type": "code",
      "execution_count": null,
      "metadata": {
        "id": "kLCm1vIENNGp"
      },
      "outputs": [],
      "source": [
        "class AverageMeter(object):\n",
        "    \"\"\"Computes and stores the average and current value\"\"\"\n",
        "    def __init__(self):\n",
        "        self.reset()\n",
        "\n",
        "    def reset(self):\n",
        "        self.val = 0\n",
        "        self.avg = 0\n",
        "        self.sum = 0\n",
        "        self.count = 0\n",
        "\n",
        "    def update(self, val, n=1):\n",
        "        self.val = val\n",
        "        self.sum += val * n\n",
        "        self.count += n\n",
        "        self.avg = self.sum / self.count\n",
        "\n",
        "\n",
        "def asMinutes(s):\n",
        "    m = math.floor(s / 60)\n",
        "    s -= m * 60\n",
        "    return '%dm %ds' % (m, s)\n",
        "\n",
        "\n",
        "def timeSince(since, percent):\n",
        "    now = time.time()\n",
        "    s = now - since\n",
        "    es = s / (percent)\n",
        "    rs = es - s\n",
        "    return '%s (remain %s)' % (asMinutes(s), asMinutes(rs))\n",
        "\n",
        "\n",
        "def train_fn(fold, train_loader, model, criterion, optimizer, epoch, scheduler, device):\n",
        "    model.train()\n",
        "    scaler = torch.cuda.amp.GradScaler(enabled=CFG.apex)\n",
        "    losses = AverageMeter()\n",
        "    start = end = time.time()\n",
        "    global_step = 0\n",
        "    for step, (inputs, labels) in enumerate(train_loader):\n",
        "        for k, v in inputs.items():\n",
        "            inputs[k] = v.to(device)\n",
        "        labels = labels.to(device)\n",
        "        batch_size = labels.size(0)\n",
        "        with torch.cuda.amp.autocast(enabled=CFG.apex):\n",
        "            y_preds = model(inputs)\n",
        "        loss = criterion(y_preds.view(-1, 1), labels.view(-1, 1))\n",
        "        if CFG.gradient_accumulation_steps > 1:\n",
        "            loss = loss / CFG.gradient_accumulation_steps\n",
        "        losses.update(loss.item(), batch_size)\n",
        "        scaler.scale(loss).backward()\n",
        "        grad_norm = torch.nn.utils.clip_grad_norm_(model.parameters(), CFG.max_grad_norm)\n",
        "        if (step + 1) % CFG.gradient_accumulation_steps == 0:\n",
        "            scaler.step(optimizer)\n",
        "            scaler.update()\n",
        "            optimizer.zero_grad()\n",
        "            global_step += 1\n",
        "            if CFG.batch_scheduler:\n",
        "                scheduler.step()\n",
        "        end = time.time()\n",
        "        if step % CFG.print_freq == 0 or step == (len(train_loader)-1):\n",
        "            print('Epoch: [{0}][{1}/{2}] '\n",
        "                  'Elapsed {remain:s} '\n",
        "                  'Loss: {loss.val:.4f}({loss.avg:.4f}) '\n",
        "                  'Grad: {grad_norm:.4f}  '\n",
        "                  'LR: {lr:.8f}  '\n",
        "                  .format(epoch+1, step, len(train_loader), \n",
        "                          remain=timeSince(start, float(step+1)/len(train_loader)),\n",
        "                          loss=losses,\n",
        "                          grad_norm=grad_norm,\n",
        "                          lr=scheduler.get_lr()[0]))\n",
        "        if CFG.wandb:\n",
        "            wandb.log({f\"[fold{fold}] loss\": losses.val,\n",
        "                       f\"[fold{fold}] lr\": scheduler.get_lr()[0]})\n",
        "    return losses.avg\n",
        "\n",
        "\n",
        "def valid_fn(valid_loader, model, criterion, device):\n",
        "    losses = AverageMeter()\n",
        "    model.eval()\n",
        "    preds = []\n",
        "    start = end = time.time()\n",
        "    for step, (inputs, labels) in enumerate(valid_loader):\n",
        "        for k, v in inputs.items():\n",
        "            inputs[k] = v.to(device)\n",
        "        labels = labels.to(device)\n",
        "        batch_size = labels.size(0)\n",
        "        with torch.no_grad():\n",
        "            y_preds = model(inputs)\n",
        "        loss = criterion(y_preds.view(-1, 1), labels.view(-1, 1))\n",
        "        if CFG.gradient_accumulation_steps > 1:\n",
        "            loss = loss / CFG.gradient_accumulation_steps\n",
        "        losses.update(loss.item(), batch_size)\n",
        "        preds.append(y_preds.sigmoid().to('cpu').numpy())\n",
        "        end = time.time()\n",
        "        if step % CFG.print_freq == 0 or step == (len(valid_loader)-1):\n",
        "            print('EVAL: [{0}/{1}] '\n",
        "                  'Elapsed {remain:s} '\n",
        "                  'Loss: {loss.val:.4f}({loss.avg:.4f}) '\n",
        "                  .format(step, len(valid_loader),\n",
        "                          loss=losses,\n",
        "                          remain=timeSince(start, float(step+1)/len(valid_loader))))\n",
        "    predictions = np.concatenate(preds)\n",
        "    predictions = np.concatenate(predictions)\n",
        "    return losses.avg, predictions\n",
        "\n",
        "\n",
        "def inference_fn(test_loader, model, device):\n",
        "    preds = []\n",
        "    model.eval()\n",
        "    model.to(device)\n",
        "    tk0 = tqdm(test_loader, total=len(test_loader))\n",
        "    for inputs in tk0:\n",
        "        for k, v in inputs.items():\n",
        "            inputs[k] = v.to(device)\n",
        "        with torch.no_grad():\n",
        "            y_preds = model(inputs)\n",
        "        preds.append(y_preds.sigmoid().to('cpu').numpy())\n",
        "    predictions = np.concatenate(preds)\n",
        "    return predictions"
      ]
    },
    {
      "cell_type": "markdown",
      "metadata": {
        "id": "fSvb31xAQSYk"
      },
      "source": [
        "## 6 Training"
      ]
    },
    {
      "cell_type": "code",
      "execution_count": null,
      "metadata": {
        "id": "UQTApALBNQRM"
      },
      "outputs": [],
      "source": [
        "def train_loop(folds, fold):\n",
        "    \n",
        "    LOGGER.info(f\"========== fold: {fold} training ==========\")\n",
        "\n",
        "    # ====================================================\n",
        "    # loader\n",
        "    # ====================================================\n",
        "    train_folds = folds[folds['fold'] != fold].reset_index(drop=True)\n",
        "    valid_folds = folds[folds['fold'] == fold].reset_index(drop=True)\n",
        "    valid_labels = valid_folds['score'].values\n",
        "    \n",
        "    train_dataset = TrainDataset(CFG, train_folds)\n",
        "    valid_dataset = TrainDataset(CFG, valid_folds)\n",
        "\n",
        "    train_loader = DataLoader(train_dataset,\n",
        "                              batch_size=CFG.batch_size,\n",
        "                              shuffle=True,\n",
        "                              num_workers=CFG.num_workers, pin_memory=True, drop_last=True)\n",
        "    valid_loader = DataLoader(valid_dataset,\n",
        "                              batch_size=CFG.batch_size,\n",
        "                              shuffle=False,\n",
        "                              num_workers=CFG.num_workers, pin_memory=True, drop_last=False)\n",
        "\n",
        "    # ====================================================\n",
        "    # model & optimizer\n",
        "    # ====================================================\n",
        "    model = CustomModel(CFG, config_path=None, pretrained=True)\n",
        "    torch.save(model.config, OUTPUT_DIR+'config.pth')\n",
        "    model.to(device)\n",
        "    \n",
        "    def get_optimizer_params(model, encoder_lr, decoder_lr, weight_decay=0.0):\n",
        "        param_optimizer = list(model.named_parameters())\n",
        "        no_decay = [\"bias\", \"LayerNorm.bias\", \"LayerNorm.weight\"]\n",
        "        optimizer_parameters = [\n",
        "            {'params': [p for n, p in model.model.named_parameters() if not any(nd in n for nd in no_decay)],\n",
        "             'lr': encoder_lr, 'weight_decay': weight_decay},\n",
        "            {'params': [p for n, p in model.model.named_parameters() if any(nd in n for nd in no_decay)],\n",
        "             'lr': encoder_lr, 'weight_decay': 0.0},\n",
        "            {'params': [p for n, p in model.named_parameters() if \"model\" not in n],\n",
        "             'lr': decoder_lr, 'weight_decay': 0.0}\n",
        "        ]\n",
        "        return optimizer_parameters\n",
        "\n",
        "    optimizer_parameters = get_optimizer_params(model,\n",
        "                                                encoder_lr=CFG.encoder_lr, \n",
        "                                                decoder_lr=CFG.decoder_lr,\n",
        "                                                weight_decay=CFG.weight_decay)\n",
        "    optimizer = AdamW(optimizer_parameters, lr=CFG.encoder_lr, eps=CFG.eps, betas=CFG.betas)\n",
        "    \n",
        "    # ====================================================\n",
        "    # scheduler\n",
        "    # ====================================================\n",
        "    def get_scheduler(cfg, optimizer, num_train_steps):\n",
        "        if cfg.scheduler == 'linear':\n",
        "            scheduler = get_linear_schedule_with_warmup(\n",
        "                optimizer, num_warmup_steps=cfg.num_warmup_steps, num_training_steps=num_train_steps\n",
        "            )\n",
        "        elif cfg.scheduler == 'cosine':\n",
        "            scheduler = get_cosine_schedule_with_warmup(\n",
        "                optimizer, num_warmup_steps=cfg.num_warmup_steps, num_training_steps=num_train_steps, num_cycles=cfg.num_cycles\n",
        "            )\n",
        "        return scheduler\n",
        "    \n",
        "    num_train_steps = int(len(train_folds) / CFG.batch_size * CFG.epochs)\n",
        "    print(\"num_train_steps: \", num_train_steps)\n",
        "    scheduler = get_scheduler(CFG, optimizer, num_train_steps)\n",
        "\n",
        "    # ====================================================\n",
        "    # loop\n",
        "    # ====================================================\n",
        "    criterion = nn.BCEWithLogitsLoss(reduction=\"mean\")\n",
        "    \n",
        "    best_score = 0.\n",
        "\n",
        "    for epoch in range(CFG.epochs):\n",
        "\n",
        "        start_time = time.time()\n",
        "\n",
        "        # train\n",
        "        avg_loss = train_fn(fold, train_loader, model, criterion, optimizer, epoch, scheduler, device)\n",
        "\n",
        "        # eval\n",
        "        avg_val_loss, predictions = valid_fn(valid_loader, model, criterion, device)\n",
        "        \n",
        "        # scoring\n",
        "        score = get_score(valid_labels, predictions)\n",
        "\n",
        "        elapsed = time.time() - start_time\n",
        "\n",
        "        LOGGER.info(f'Epoch {epoch+1} - avg_train_loss: {avg_loss:.4f}  avg_val_loss: {avg_val_loss:.4f}  time: {elapsed:.0f}s')\n",
        "        LOGGER.info(f'Epoch {epoch+1} - Score: {score:.4f}')\n",
        "        if CFG.wandb:\n",
        "            wandb.log({f\"[fold{fold}] epoch\": epoch+1, \n",
        "                       f\"[fold{fold}] avg_train_loss\": avg_loss, \n",
        "                       f\"[fold{fold}] avg_val_loss\": avg_val_loss,\n",
        "                       f\"[fold{fold}] score\": score})\n",
        "        \n",
        "        if best_score < score:\n",
        "            best_score = score\n",
        "            LOGGER.info(f'Epoch {epoch+1} - Save Best Score: {best_score:.4f} Model')\n",
        "            torch.save({'model': model.state_dict(),\n",
        "                        'predictions': predictions},\n",
        "                        OUTPUT_DIR+f\"{CFG.model.replace('/', '-')}_fold{fold}_best.pth\")\n",
        "\n",
        "    predictions = torch.load(OUTPUT_DIR+f\"{CFG.model.replace('/', '-')}_fold{fold}_best.pth\", \n",
        "                             map_location=torch.device('cpu'))['predictions']\n",
        "    valid_folds['pred'] = predictions\n",
        "\n",
        "    torch.cuda.empty_cache()\n",
        "    gc.collect()\n",
        "    \n",
        "    return valid_folds"
      ]
    },
    {
      "cell_type": "code",
      "execution_count": null,
      "metadata": {
        "colab": {
          "base_uri": "https://localhost:8080/"
        },
        "id": "90LfGMXANS26",
        "outputId": "0d8dd39b-6688-47e6-cfe5-03a5b7efdb09"
      },
      "outputs": [
        {
          "name": "stderr",
          "output_type": "stream",
          "text": [
            "========== fold: 0 training ==========\n",
            "Some weights of the model checkpoint at microsoft/deberta-v3-large were not used when initializing DebertaV2Model: ['lm_predictions.lm_head.LayerNorm.bias', 'mask_predictions.classifier.weight', 'mask_predictions.dense.bias', 'mask_predictions.LayerNorm.bias', 'lm_predictions.lm_head.bias', 'lm_predictions.lm_head.dense.bias', 'mask_predictions.LayerNorm.weight', 'mask_predictions.classifier.bias', 'lm_predictions.lm_head.LayerNorm.weight', 'lm_predictions.lm_head.dense.weight', 'mask_predictions.dense.weight']\n",
            "- This IS expected if you are initializing DebertaV2Model from the checkpoint of a model trained on another task or with another architecture (e.g. initializing a BertForSequenceClassification model from a BertForPreTraining model).\n",
            "- This IS NOT expected if you are initializing DebertaV2Model from the checkpoint of a model that you expect to be exactly identical (initializing a BertForSequenceClassification model from a BertForSequenceClassification model).\n"
          ]
        },
        {
          "name": "stdout",
          "output_type": "stream",
          "text": [
            "num_train_steps:  4559\n",
            "Epoch: [1][0/911] Elapsed 0m 1s (remain 23m 16s) Loss: 0.6771(0.6771) Grad: inf  LR: 0.00000006  \n",
            "Epoch: [1][100/911] Elapsed 0m 44s (remain 5m 54s) Loss: 0.6333(0.6541) Grad: 20604.9297  LR: 0.00000589  \n",
            "Epoch: [1][200/911] Elapsed 1m 27s (remain 5m 8s) Loss: 0.5637(0.6290) Grad: 8809.6299  LR: 0.00001172  \n",
            "Epoch: [1][300/911] Elapsed 2m 10s (remain 4m 24s) Loss: 0.5824(0.6131) Grad: 15955.8682  LR: 0.00001756  \n",
            "Epoch: [1][400/911] Elapsed 2m 53s (remain 3m 40s) Loss: 0.5425(0.5996) Grad: 16946.4375  LR: 0.00002339  \n",
            "Epoch: [1][500/911] Elapsed 3m 36s (remain 2m 56s) Loss: 0.5960(0.5914) Grad: 19515.0469  LR: 0.00002659  \n",
            "Epoch: [1][600/911] Elapsed 4m 19s (remain 2m 13s) Loss: 0.5331(0.5848) Grad: 13708.3193  LR: 0.00002652  \n",
            "Epoch: [1][700/911] Elapsed 5m 2s (remain 1m 30s) Loss: 0.5975(0.5802) Grad: 16666.7520  LR: 0.00002637  \n",
            "Epoch: [1][800/911] Elapsed 5m 45s (remain 0m 47s) Loss: 0.6020(0.5758) Grad: 10193.8936  LR: 0.00002614  \n",
            "Epoch: [1][900/911] Elapsed 6m 28s (remain 0m 4s) Loss: 0.4970(0.5728) Grad: 20598.9961  LR: 0.00002584  \n",
            "Epoch: [1][910/911] Elapsed 6m 32s (remain 0m 0s) Loss: 0.5329(0.5726) Grad: 13576.8359  LR: 0.00002580  \n",
            "EVAL: [0/228] Elapsed 0m 0s (remain 2m 51s) Loss: 0.6416(0.6416) \n",
            "EVAL: [100/228] Elapsed 0m 18s (remain 0m 23s) Loss: 0.5458(0.5430) \n",
            "EVAL: [200/228] Elapsed 0m 35s (remain 0m 4s) Loss: 0.5090(0.5366) \n",
            "EVAL: [227/228] Elapsed 0m 40s (remain 0m 0s) Loss: 0.4985(0.5383) \n"
          ]
        },
        {
          "name": "stderr",
          "output_type": "stream",
          "text": [
            "Epoch 1 - avg_train_loss: 0.5726  avg_val_loss: 0.5383  time: 434s\n",
            "Epoch 1 - Score: 0.8304\n",
            "Epoch 1 - Save Best Score: 0.8304 Model\n"
          ]
        },
        {
          "name": "stdout",
          "output_type": "stream",
          "text": [
            "Epoch: [2][0/911] Elapsed 0m 1s (remain 16m 9s) Loss: 0.4781(0.4781) Grad: 73216.2578  LR: 0.00002580  \n",
            "Epoch: [2][100/911] Elapsed 0m 44s (remain 5m 54s) Loss: 0.4940(0.5314) Grad: 32068.6387  LR: 0.00002541  \n",
            "Epoch: [2][200/911] Elapsed 1m 27s (remain 5m 7s) Loss: 0.4802(0.5261) Grad: 28764.0703  LR: 0.00002496  \n",
            "Epoch: [2][300/911] Elapsed 2m 10s (remain 4m 23s) Loss: 0.5525(0.5256) Grad: 42536.3750  LR: 0.00002443  \n",
            "Epoch: [2][400/911] Elapsed 2m 53s (remain 3m 40s) Loss: 0.4938(0.5241) Grad: 24262.9141  LR: 0.00002384  \n",
            "Epoch: [2][500/911] Elapsed 3m 36s (remain 2m 56s) Loss: 0.5216(0.5219) Grad: 47443.8125  LR: 0.00002319  \n",
            "Epoch: [2][600/911] Elapsed 4m 18s (remain 2m 13s) Loss: 0.4987(0.5211) Grad: 97885.5547  LR: 0.00002248  \n",
            "Epoch: [2][700/911] Elapsed 5m 1s (remain 1m 30s) Loss: 0.6372(0.5223) Grad: 67092.8750  LR: 0.00002172  \n",
            "Epoch: [2][800/911] Elapsed 5m 44s (remain 0m 47s) Loss: 0.5665(0.5222) Grad: 88058.0312  LR: 0.00002091  \n",
            "Epoch: [2][900/911] Elapsed 6m 27s (remain 0m 4s) Loss: 0.5106(0.5221) Grad: 50720.0586  LR: 0.00002005  \n",
            "Epoch: [2][910/911] Elapsed 6m 32s (remain 0m 0s) Loss: 0.5263(0.5221) Grad: 66515.5625  LR: 0.00001996  \n",
            "EVAL: [0/228] Elapsed 0m 0s (remain 3m 21s) Loss: 0.6506(0.6506) \n",
            "EVAL: [100/228] Elapsed 0m 18s (remain 0m 23s) Loss: 0.5975(0.5351) \n",
            "EVAL: [200/228] Elapsed 0m 36s (remain 0m 4s) Loss: 0.4834(0.5309) \n"
          ]
        },
        {
          "name": "stderr",
          "output_type": "stream",
          "text": [
            "Epoch 2 - avg_train_loss: 0.5221  avg_val_loss: 0.5322  time: 433s\n",
            "Epoch 2 - Score: 0.8610\n",
            "Epoch 2 - Save Best Score: 0.8610 Model\n"
          ]
        },
        {
          "name": "stdout",
          "output_type": "stream",
          "text": [
            "EVAL: [227/228] Elapsed 0m 40s (remain 0m 0s) Loss: 0.5080(0.5322) \n",
            "Epoch: [3][0/911] Elapsed 0m 1s (remain 15m 35s) Loss: 0.5227(0.5227) Grad: 80003.1719  LR: 0.00001996  \n",
            "Epoch: [3][100/911] Elapsed 0m 44s (remain 5m 54s) Loss: 0.5001(0.5076) Grad: 39607.9492  LR: 0.00001906  \n",
            "Epoch: [3][200/911] Elapsed 1m 27s (remain 5m 7s) Loss: 0.4459(0.5054) Grad: 49204.5039  LR: 0.00001812  \n",
            "Epoch: [3][300/911] Elapsed 2m 10s (remain 4m 23s) Loss: 0.4443(0.5067) Grad: 28566.2363  LR: 0.00001716  \n",
            "Epoch: [3][400/911] Elapsed 2m 53s (remain 3m 40s) Loss: 0.5747(0.5084) Grad: 66671.1094  LR: 0.00001617  \n",
            "Epoch: [3][500/911] Elapsed 3m 36s (remain 2m 56s) Loss: 0.5400(0.5084) Grad: 51648.0000  LR: 0.00001517  \n",
            "Epoch: [3][600/911] Elapsed 4m 19s (remain 2m 13s) Loss: 0.4380(0.5081) Grad: 23583.3008  LR: 0.00001416  \n",
            "Epoch: [3][700/911] Elapsed 5m 2s (remain 1m 30s) Loss: 0.4978(0.5073) Grad: 18516.0195  LR: 0.00001314  \n",
            "Epoch: [3][800/911] Elapsed 5m 45s (remain 0m 47s) Loss: 0.5253(0.5080) Grad: 44202.9141  LR: 0.00001213  \n",
            "Epoch: [3][900/911] Elapsed 6m 28s (remain 0m 4s) Loss: 0.5346(0.5083) Grad: 95615.9531  LR: 0.00001112  \n",
            "Epoch: [3][910/911] Elapsed 6m 32s (remain 0m 0s) Loss: 0.4500(0.5082) Grad: 19727.4160  LR: 0.00001101  \n",
            "EVAL: [0/228] Elapsed 0m 0s (remain 2m 41s) Loss: 0.6407(0.6407) \n",
            "EVAL: [100/228] Elapsed 0m 18s (remain 0m 22s) Loss: 0.5896(0.5367) \n",
            "EVAL: [200/228] Elapsed 0m 35s (remain 0m 4s) Loss: 0.4725(0.5300) \n"
          ]
        },
        {
          "name": "stderr",
          "output_type": "stream",
          "text": [
            "Epoch 3 - avg_train_loss: 0.5082  avg_val_loss: 0.5319  time: 433s\n",
            "Epoch 3 - Score: 0.8677\n",
            "Epoch 3 - Save Best Score: 0.8677 Model\n"
          ]
        },
        {
          "name": "stdout",
          "output_type": "stream",
          "text": [
            "EVAL: [227/228] Elapsed 0m 40s (remain 0m 0s) Loss: 0.4925(0.5319) \n",
            "Epoch: [4][0/911] Elapsed 0m 1s (remain 17m 22s) Loss: 0.4754(0.4754) Grad: 47606.5000  LR: 0.00001100  \n",
            "Epoch: [4][100/911] Elapsed 0m 44s (remain 5m 55s) Loss: 0.5187(0.5061) Grad: 48269.0938  LR: 0.00001001  \n",
            "Epoch: [4][200/911] Elapsed 1m 27s (remain 5m 7s) Loss: 0.5084(0.5038) Grad: 188435.2969  LR: 0.00000903  \n",
            "Epoch: [4][300/911] Elapsed 2m 10s (remain 4m 23s) Loss: 0.4931(0.5049) Grad: 47432.5547  LR: 0.00000808  \n",
            "Epoch: [4][400/911] Elapsed 2m 53s (remain 3m 40s) Loss: 0.4995(0.5022) Grad: 51710.4141  LR: 0.00000716  \n",
            "Epoch: [4][500/911] Elapsed 3m 36s (remain 2m 56s) Loss: 0.5621(0.5027) Grad: 55558.6094  LR: 0.00000628  \n",
            "Epoch: [4][600/911] Elapsed 4m 19s (remain 2m 13s) Loss: 0.5715(0.5025) Grad: 43157.2109  LR: 0.00000543  \n",
            "Epoch: [4][700/911] Elapsed 5m 1s (remain 1m 30s) Loss: 0.5495(0.5010) Grad: 33617.5586  LR: 0.00000464  \n",
            "Epoch: [4][800/911] Elapsed 5m 44s (remain 0m 47s) Loss: 0.4444(0.4999) Grad: 132239.2500  LR: 0.00000389  \n",
            "Epoch: [4][900/911] Elapsed 6m 27s (remain 0m 4s) Loss: 0.5323(0.4997) Grad: 27149.4570  LR: 0.00000320  \n",
            "Epoch: [4][910/911] Elapsed 6m 32s (remain 0m 0s) Loss: 0.5257(0.4993) Grad: 59038.6484  LR: 0.00000313  \n",
            "EVAL: [0/228] Elapsed 0m 0s (remain 3m 20s) Loss: 0.6437(0.6437) \n",
            "EVAL: [100/228] Elapsed 0m 18s (remain 0m 23s) Loss: 0.6065(0.5391) \n",
            "EVAL: [200/228] Elapsed 0m 36s (remain 0m 4s) Loss: 0.4718(0.5319) \n"
          ]
        },
        {
          "name": "stderr",
          "output_type": "stream",
          "text": [
            "Epoch 4 - avg_train_loss: 0.4993  avg_val_loss: 0.5337  time: 433s\n",
            "Epoch 4 - Score: 0.8701\n",
            "Epoch 4 - Save Best Score: 0.8701 Model\n"
          ]
        },
        {
          "name": "stdout",
          "output_type": "stream",
          "text": [
            "EVAL: [227/228] Elapsed 0m 40s (remain 0m 0s) Loss: 0.4923(0.5337) \n",
            "Epoch: [5][0/911] Elapsed 0m 1s (remain 16m 27s) Loss: 0.5019(0.5019) Grad: 87570.1875  LR: 0.00000313  \n",
            "Epoch: [5][100/911] Elapsed 0m 44s (remain 5m 54s) Loss: 0.3881(0.4902) Grad: 36915.1172  LR: 0.00000250  \n",
            "Epoch: [5][200/911] Elapsed 1m 27s (remain 5m 8s) Loss: 0.5307(0.4885) Grad: 56139.6758  LR: 0.00000194  \n",
            "Epoch: [5][300/911] Elapsed 2m 10s (remain 4m 23s) Loss: 0.3568(0.4935) Grad: 47360.9258  LR: 0.00000144  \n",
            "Epoch: [5][400/911] Elapsed 2m 53s (remain 3m 40s) Loss: 0.4144(0.4959) Grad: 44223.3047  LR: 0.00000102  \n",
            "Epoch: [5][500/911] Elapsed 3m 35s (remain 2m 56s) Loss: 0.4173(0.4963) Grad: 295081.5312  LR: 0.00000066  \n",
            "Epoch: [5][600/911] Elapsed 4m 18s (remain 2m 13s) Loss: 0.5915(0.4963) Grad: 30590.8008  LR: 0.00000038  \n",
            "Epoch: [5][700/911] Elapsed 5m 1s (remain 1m 30s) Loss: 0.6273(0.4969) Grad: 294550.5938  LR: 0.00000018  \n",
            "Epoch: [5][800/911] Elapsed 5m 44s (remain 0m 47s) Loss: 0.4688(0.4958) Grad: 70259.1484  LR: 0.00000005  \n",
            "Epoch: [5][900/911] Elapsed 6m 27s (remain 0m 4s) Loss: 0.4357(0.4954) Grad: 39136.0508  LR: 0.00000000  \n",
            "Epoch: [5][910/911] Elapsed 6m 32s (remain 0m 0s) Loss: 0.6104(0.4954) Grad: 34185.3789  LR: 0.00000000  \n",
            "EVAL: [0/228] Elapsed 0m 0s (remain 3m 36s) Loss: 0.6448(0.6448) \n",
            "EVAL: [100/228] Elapsed 0m 18s (remain 0m 23s) Loss: 0.6012(0.5401) \n",
            "EVAL: [200/228] Elapsed 0m 36s (remain 0m 4s) Loss: 0.4707(0.5330) \n"
          ]
        },
        {
          "name": "stderr",
          "output_type": "stream",
          "text": [
            "Epoch 5 - avg_train_loss: 0.4954  avg_val_loss: 0.5348  time: 433s\n",
            "Epoch 5 - Score: 0.8706\n",
            "Epoch 5 - Save Best Score: 0.8706 Model\n"
          ]
        },
        {
          "name": "stdout",
          "output_type": "stream",
          "text": [
            "EVAL: [227/228] Elapsed 0m 40s (remain 0m 0s) Loss: 0.4927(0.5348) \n"
          ]
        },
        {
          "name": "stderr",
          "output_type": "stream",
          "text": [
            "========== fold: 0 result ==========\n",
            "Score: 0.8706\n",
            "========== fold: 1 training ==========\n",
            "Some weights of the model checkpoint at microsoft/deberta-v3-large were not used when initializing DebertaV2Model: ['lm_predictions.lm_head.LayerNorm.bias', 'mask_predictions.classifier.weight', 'mask_predictions.dense.bias', 'mask_predictions.LayerNorm.bias', 'lm_predictions.lm_head.bias', 'lm_predictions.lm_head.dense.bias', 'mask_predictions.LayerNorm.weight', 'mask_predictions.classifier.bias', 'lm_predictions.lm_head.LayerNorm.weight', 'lm_predictions.lm_head.dense.weight', 'mask_predictions.dense.weight']\n",
            "- This IS expected if you are initializing DebertaV2Model from the checkpoint of a model trained on another task or with another architecture (e.g. initializing a BertForSequenceClassification model from a BertForPreTraining model).\n",
            "- This IS NOT expected if you are initializing DebertaV2Model from the checkpoint of a model that you expect to be exactly identical (initializing a BertForSequenceClassification model from a BertForSequenceClassification model).\n"
          ]
        },
        {
          "name": "stdout",
          "output_type": "stream",
          "text": [
            "num_train_steps:  4559\n",
            "Epoch: [1][0/911] Elapsed 0m 1s (remain 16m 22s) Loss: 0.6808(0.6808) Grad: inf  LR: 0.00000006  \n",
            "Epoch: [1][100/911] Elapsed 0m 43s (remain 5m 52s) Loss: 0.6250(0.6492) Grad: 24772.0996  LR: 0.00000589  \n",
            "Epoch: [1][200/911] Elapsed 1m 26s (remain 5m 6s) Loss: 0.5912(0.6248) Grad: 11739.8008  LR: 0.00001172  \n",
            "Epoch: [1][300/911] Elapsed 2m 9s (remain 4m 22s) Loss: 0.5802(0.6103) Grad: 13470.9736  LR: 0.00001756  \n",
            "Epoch: [1][400/911] Elapsed 2m 52s (remain 3m 39s) Loss: 0.6200(0.5984) Grad: 27683.3320  LR: 0.00002339  \n",
            "Epoch: [1][500/911] Elapsed 3m 35s (remain 2m 56s) Loss: 0.5252(0.5890) Grad: 17806.4785  LR: 0.00002659  \n",
            "Epoch: [1][600/911] Elapsed 4m 18s (remain 2m 13s) Loss: 0.5739(0.5838) Grad: 10472.1084  LR: 0.00002652  \n",
            "Epoch: [1][700/911] Elapsed 5m 1s (remain 1m 30s) Loss: 0.5126(0.5795) Grad: 7331.2998  LR: 0.00002637  \n",
            "Epoch: [1][800/911] Elapsed 5m 44s (remain 0m 47s) Loss: 0.5031(0.5762) Grad: 22823.5898  LR: 0.00002614  \n",
            "Epoch: [1][900/911] Elapsed 6m 27s (remain 0m 4s) Loss: 0.5345(0.5729) Grad: 15040.5811  LR: 0.00002584  \n",
            "Epoch: [1][910/911] Elapsed 6m 31s (remain 0m 0s) Loss: 0.6049(0.5726) Grad: 11422.5195  LR: 0.00002580  \n",
            "EVAL: [0/228] Elapsed 0m 0s (remain 3m 15s) Loss: 0.5516(0.5516) \n",
            "EVAL: [100/228] Elapsed 0m 18s (remain 0m 23s) Loss: 0.5483(0.5512) \n",
            "EVAL: [200/228] Elapsed 0m 36s (remain 0m 4s) Loss: 0.4649(0.5461) \n",
            "EVAL: [227/228] Elapsed 0m 40s (remain 0m 0s) Loss: 0.4738(0.5446) \n"
          ]
        },
        {
          "name": "stderr",
          "output_type": "stream",
          "text": [
            "Epoch 1 - avg_train_loss: 0.5726  avg_val_loss: 0.5446  time: 433s\n",
            "Epoch 1 - Score: 0.8220\n",
            "Epoch 1 - Save Best Score: 0.8220 Model\n"
          ]
        },
        {
          "name": "stdout",
          "output_type": "stream",
          "text": [
            "Epoch: [2][0/911] Elapsed 0m 1s (remain 15m 30s) Loss: 0.5894(0.5894) Grad: 142161.2031  LR: 0.00002580  \n",
            "Epoch: [2][100/911] Elapsed 0m 43s (remain 5m 52s) Loss: 0.4750(0.5254) Grad: 101955.1875  LR: 0.00002541  \n",
            "Epoch: [2][200/911] Elapsed 1m 26s (remain 5m 6s) Loss: 0.4253(0.5242) Grad: 52825.7969  LR: 0.00002496  \n",
            "Epoch: [2][300/911] Elapsed 2m 9s (remain 4m 23s) Loss: 0.5567(0.5255) Grad: 107658.0781  LR: 0.00002443  \n",
            "Epoch: [2][400/911] Elapsed 2m 52s (remain 3m 39s) Loss: 0.5037(0.5232) Grad: 84369.0391  LR: 0.00002384  \n",
            "Epoch: [2][500/911] Elapsed 3m 35s (remain 2m 56s) Loss: 0.4409(0.5217) Grad: 47469.0000  LR: 0.00002319  \n",
            "Epoch: [2][600/911] Elapsed 4m 19s (remain 2m 13s) Loss: 0.4915(0.5209) Grad: 29477.2480  LR: 0.00002248  \n",
            "Epoch: [2][700/911] Elapsed 5m 2s (remain 1m 30s) Loss: 0.5518(0.5211) Grad: 20691.3555  LR: 0.00002172  \n",
            "Epoch: [2][800/911] Elapsed 5m 45s (remain 0m 47s) Loss: 0.4753(0.5212) Grad: 44055.9844  LR: 0.00002091  \n",
            "Epoch: [2][900/911] Elapsed 6m 28s (remain 0m 4s) Loss: 0.5806(0.5216) Grad: 48975.1211  LR: 0.00002005  \n",
            "Epoch: [2][910/911] Elapsed 6m 32s (remain 0m 0s) Loss: 0.4748(0.5214) Grad: 25954.5391  LR: 0.00001996  \n",
            "EVAL: [0/228] Elapsed 0m 0s (remain 2m 47s) Loss: 0.5236(0.5236) \n",
            "EVAL: [100/228] Elapsed 0m 18s (remain 0m 23s) Loss: 0.5296(0.5419) \n",
            "EVAL: [200/228] Elapsed 0m 35s (remain 0m 4s) Loss: 0.4589(0.5377) \n",
            "EVAL: [227/228] Elapsed 0m 40s (remain 0m 0s) Loss: 0.4451(0.5366) \n"
          ]
        },
        {
          "name": "stderr",
          "output_type": "stream",
          "text": [
            "Epoch 2 - avg_train_loss: 0.5214  avg_val_loss: 0.5366  time: 434s\n",
            "Epoch 2 - Score: 0.8533\n",
            "Epoch 2 - Save Best Score: 0.8533 Model\n"
          ]
        },
        {
          "name": "stdout",
          "output_type": "stream",
          "text": [
            "Epoch: [3][0/911] Elapsed 0m 1s (remain 17m 19s) Loss: 0.5124(0.5124) Grad: 49191.2070  LR: 0.00001996  \n",
            "Epoch: [3][100/911] Elapsed 0m 44s (remain 5m 55s) Loss: 0.5343(0.5056) Grad: 22920.4355  LR: 0.00001906  \n",
            "Epoch: [3][200/911] Elapsed 1m 27s (remain 5m 8s) Loss: 0.5025(0.5043) Grad: 54990.5820  LR: 0.00001812  \n",
            "Epoch: [3][300/911] Elapsed 2m 10s (remain 4m 24s) Loss: 0.5526(0.5038) Grad: 36054.5195  LR: 0.00001716  \n",
            "Epoch: [3][400/911] Elapsed 2m 53s (remain 3m 40s) Loss: 0.4890(0.5064) Grad: 45021.2852  LR: 0.00001617  \n",
            "Epoch: [3][500/911] Elapsed 3m 36s (remain 2m 57s) Loss: 0.4684(0.5075) Grad: 75128.2422  LR: 0.00001517  \n",
            "Epoch: [3][600/911] Elapsed 4m 19s (remain 2m 13s) Loss: 0.5372(0.5080) Grad: 70842.9609  LR: 0.00001416  \n",
            "Epoch: [3][700/911] Elapsed 5m 2s (remain 1m 30s) Loss: 0.4939(0.5069) Grad: 61080.2461  LR: 0.00001314  \n",
            "Epoch: [3][800/911] Elapsed 5m 45s (remain 0m 47s) Loss: 0.5254(0.5078) Grad: 77506.3281  LR: 0.00001213  \n",
            "Epoch: [3][900/911] Elapsed 6m 28s (remain 0m 4s) Loss: 0.4981(0.5081) Grad: 152167.2812  LR: 0.00001112  \n",
            "Epoch: [3][910/911] Elapsed 6m 32s (remain 0m 0s) Loss: 0.5393(0.5081) Grad: 38164.9453  LR: 0.00001101  \n",
            "EVAL: [0/228] Elapsed 0m 0s (remain 3m 2s) Loss: 0.5135(0.5135) \n",
            "EVAL: [100/228] Elapsed 0m 18s (remain 0m 23s) Loss: 0.5241(0.5389) \n",
            "EVAL: [200/228] Elapsed 0m 36s (remain 0m 4s) Loss: 0.4448(0.5343) \n"
          ]
        },
        {
          "name": "stderr",
          "output_type": "stream",
          "text": [
            "Epoch 3 - avg_train_loss: 0.5081  avg_val_loss: 0.5335  time: 434s\n",
            "Epoch 3 - Score: 0.8622\n",
            "Epoch 3 - Save Best Score: 0.8622 Model\n"
          ]
        },
        {
          "name": "stdout",
          "output_type": "stream",
          "text": [
            "EVAL: [227/228] Elapsed 0m 40s (remain 0m 0s) Loss: 0.4421(0.5335) \n",
            "Epoch: [4][0/911] Elapsed 0m 1s (remain 16m 1s) Loss: 0.4721(0.4721) Grad: 48243.2891  LR: 0.00001100  \n",
            "Epoch: [4][100/911] Elapsed 0m 44s (remain 5m 53s) Loss: 0.5602(0.4967) Grad: 53538.8242  LR: 0.00001001  \n",
            "Epoch: [4][200/911] Elapsed 1m 27s (remain 5m 8s) Loss: 0.5840(0.5027) Grad: 274379.0625  LR: 0.00000903  \n",
            "Epoch: [4][300/911] Elapsed 2m 10s (remain 4m 24s) Loss: 0.5189(0.5022) Grad: 134321.2812  LR: 0.00000808  \n",
            "Epoch: [4][400/911] Elapsed 2m 53s (remain 3m 40s) Loss: 0.4327(0.5045) Grad: 18752.5781  LR: 0.00000716  \n",
            "Epoch: [4][500/911] Elapsed 3m 36s (remain 2m 57s) Loss: 0.4515(0.5043) Grad: 148927.7812  LR: 0.00000628  \n",
            "Epoch: [4][600/911] Elapsed 4m 19s (remain 2m 13s) Loss: 0.5104(0.5044) Grad: 47841.8398  LR: 0.00000543  \n",
            "Epoch: [4][700/911] Elapsed 5m 2s (remain 1m 30s) Loss: 0.5436(0.5034) Grad: 33195.0352  LR: 0.00000464  \n",
            "Epoch: [4][800/911] Elapsed 5m 45s (remain 0m 47s) Loss: 0.4852(0.5023) Grad: 41896.8438  LR: 0.00000389  \n",
            "Epoch: [4][900/911] Elapsed 6m 28s (remain 0m 4s) Loss: 0.4812(0.5013) Grad: 95626.5781  LR: 0.00000320  \n",
            "Epoch: [4][910/911] Elapsed 6m 32s (remain 0m 0s) Loss: 0.4545(0.5010) Grad: 15970.0693  LR: 0.00000313  \n",
            "EVAL: [0/228] Elapsed 0m 0s (remain 3m 3s) Loss: 0.5155(0.5155) \n",
            "EVAL: [100/228] Elapsed 0m 18s (remain 0m 23s) Loss: 0.5229(0.5437) \n",
            "EVAL: [200/228] Elapsed 0m 36s (remain 0m 4s) Loss: 0.4374(0.5399) \n"
          ]
        },
        {
          "name": "stderr",
          "output_type": "stream",
          "text": [
            "Epoch 4 - avg_train_loss: 0.5010  avg_val_loss: 0.5392  time: 434s\n",
            "Epoch 4 - Score: 0.8626\n",
            "Epoch 4 - Save Best Score: 0.8626 Model\n"
          ]
        },
        {
          "name": "stdout",
          "output_type": "stream",
          "text": [
            "EVAL: [227/228] Elapsed 0m 40s (remain 0m 0s) Loss: 0.4476(0.5392) \n",
            "Epoch: [5][0/911] Elapsed 0m 1s (remain 16m 21s) Loss: 0.4315(0.4315) Grad: 81326.2969  LR: 0.00000313  \n",
            "Epoch: [5][100/911] Elapsed 0m 44s (remain 5m 54s) Loss: 0.4467(0.4914) Grad: 31793.9238  LR: 0.00000250  \n",
            "Epoch: [5][200/911] Elapsed 1m 27s (remain 5m 8s) Loss: 0.5255(0.4933) Grad: 36965.0742  LR: 0.00000194  \n",
            "Epoch: [5][300/911] Elapsed 2m 10s (remain 4m 24s) Loss: 0.5199(0.4945) Grad: 37924.7383  LR: 0.00000144  \n",
            "Epoch: [5][400/911] Elapsed 2m 53s (remain 3m 40s) Loss: 0.5636(0.4962) Grad: 115352.9453  LR: 0.00000102  \n",
            "Epoch: [5][500/911] Elapsed 3m 36s (remain 2m 57s) Loss: 0.4843(0.4959) Grad: 35956.3945  LR: 0.00000066  \n",
            "Epoch: [5][600/911] Elapsed 4m 19s (remain 2m 13s) Loss: 0.4808(0.4959) Grad: 95895.9844  LR: 0.00000038  \n",
            "Epoch: [5][700/911] Elapsed 5m 2s (remain 1m 30s) Loss: 0.4943(0.4959) Grad: 43949.3203  LR: 0.00000018  \n",
            "Epoch: [5][800/911] Elapsed 5m 45s (remain 0m 47s) Loss: 0.4899(0.4965) Grad: 43009.4297  LR: 0.00000005  \n",
            "Epoch: [5][900/911] Elapsed 6m 28s (remain 0m 4s) Loss: 0.4912(0.4971) Grad: 74839.9688  LR: 0.00000000  \n",
            "Epoch: [5][910/911] Elapsed 6m 32s (remain 0m 0s) Loss: 0.4923(0.4972) Grad: 333335.5000  LR: 0.00000000  \n",
            "EVAL: [0/228] Elapsed 0m 0s (remain 2m 46s) Loss: 0.5188(0.5188) \n",
            "EVAL: [100/228] Elapsed 0m 18s (remain 0m 23s) Loss: 0.5224(0.5445) \n",
            "EVAL: [200/228] Elapsed 0m 35s (remain 0m 4s) Loss: 0.4379(0.5414) \n"
          ]
        },
        {
          "name": "stderr",
          "output_type": "stream",
          "text": [
            "Epoch 5 - avg_train_loss: 0.4972  avg_val_loss: 0.5408  time: 434s\n",
            "Epoch 5 - Score: 0.8624\n"
          ]
        },
        {
          "name": "stdout",
          "output_type": "stream",
          "text": [
            "EVAL: [227/228] Elapsed 0m 40s (remain 0m 0s) Loss: 0.4452(0.5408) \n"
          ]
        },
        {
          "name": "stderr",
          "output_type": "stream",
          "text": [
            "========== fold: 1 result ==========\n",
            "Score: 0.8626\n",
            "========== fold: 2 training ==========\n",
            "Some weights of the model checkpoint at microsoft/deberta-v3-large were not used when initializing DebertaV2Model: ['lm_predictions.lm_head.LayerNorm.bias', 'mask_predictions.classifier.weight', 'mask_predictions.dense.bias', 'mask_predictions.LayerNorm.bias', 'lm_predictions.lm_head.bias', 'lm_predictions.lm_head.dense.bias', 'mask_predictions.LayerNorm.weight', 'mask_predictions.classifier.bias', 'lm_predictions.lm_head.LayerNorm.weight', 'lm_predictions.lm_head.dense.weight', 'mask_predictions.dense.weight']\n",
            "- This IS expected if you are initializing DebertaV2Model from the checkpoint of a model trained on another task or with another architecture (e.g. initializing a BertForSequenceClassification model from a BertForPreTraining model).\n",
            "- This IS NOT expected if you are initializing DebertaV2Model from the checkpoint of a model that you expect to be exactly identical (initializing a BertForSequenceClassification model from a BertForSequenceClassification model).\n"
          ]
        },
        {
          "name": "stdout",
          "output_type": "stream",
          "text": [
            "num_train_steps:  4559\n",
            "Epoch: [1][0/911] Elapsed 0m 1s (remain 16m 31s) Loss: 0.7438(0.7438) Grad: inf  LR: 0.00000006  \n",
            "Epoch: [1][100/911] Elapsed 0m 43s (remain 5m 52s) Loss: 0.6350(0.6582) Grad: 19908.5000  LR: 0.00000589  \n",
            "Epoch: [1][200/911] Elapsed 1m 26s (remain 5m 6s) Loss: 0.5804(0.6286) Grad: 15055.6367  LR: 0.00001172  \n",
            "Epoch: [1][300/911] Elapsed 2m 9s (remain 4m 22s) Loss: 0.5407(0.6101) Grad: 9420.0732  LR: 0.00001756  \n",
            "Epoch: [1][400/911] Elapsed 2m 52s (remain 3m 39s) Loss: 0.5775(0.5974) Grad: 24573.4199  LR: 0.00002339  \n",
            "Epoch: [1][500/911] Elapsed 3m 35s (remain 2m 56s) Loss: 0.5346(0.5886) Grad: 13668.1348  LR: 0.00002659  \n",
            "Epoch: [1][600/911] Elapsed 4m 18s (remain 2m 13s) Loss: 0.6369(0.5824) Grad: 38506.7852  LR: 0.00002652  \n",
            "Epoch: [1][700/911] Elapsed 5m 1s (remain 1m 30s) Loss: 0.5534(0.5780) Grad: 19808.6211  LR: 0.00002637  \n",
            "Epoch: [1][800/911] Elapsed 5m 44s (remain 0m 47s) Loss: 0.5661(0.5739) Grad: 18593.1074  LR: 0.00002614  \n",
            "Epoch: [1][900/911] Elapsed 6m 27s (remain 0m 4s) Loss: 0.5795(0.5708) Grad: 7730.3823  LR: 0.00002584  \n",
            "Epoch: [1][910/911] Elapsed 6m 31s (remain 0m 0s) Loss: 0.4964(0.5703) Grad: 18973.3750  LR: 0.00002580  \n",
            "EVAL: [0/228] Elapsed 0m 0s (remain 3m 6s) Loss: 0.5483(0.5483) \n",
            "EVAL: [100/228] Elapsed 0m 18s (remain 0m 23s) Loss: 0.5811(0.5440) \n",
            "EVAL: [200/228] Elapsed 0m 36s (remain 0m 4s) Loss: 0.5398(0.5474) \n"
          ]
        },
        {
          "name": "stderr",
          "output_type": "stream",
          "text": [
            "Epoch 1 - avg_train_loss: 0.5703  avg_val_loss: 0.5459  time: 433s\n",
            "Epoch 1 - Score: 0.8267\n",
            "Epoch 1 - Save Best Score: 0.8267 Model\n"
          ]
        },
        {
          "name": "stdout",
          "output_type": "stream",
          "text": [
            "EVAL: [227/228] Elapsed 0m 40s (remain 0m 0s) Loss: 0.4714(0.5459) \n",
            "Epoch: [2][0/911] Elapsed 0m 1s (remain 15m 36s) Loss: 0.4078(0.4078) Grad: 66515.6172  LR: 0.00002580  \n",
            "Epoch: [2][100/911] Elapsed 0m 44s (remain 5m 54s) Loss: 0.5686(0.5297) Grad: 24918.8516  LR: 0.00002541  \n",
            "Epoch: [2][200/911] Elapsed 1m 27s (remain 5m 8s) Loss: 0.4872(0.5242) Grad: 18569.5938  LR: 0.00002496  \n",
            "Epoch: [2][300/911] Elapsed 2m 10s (remain 4m 24s) Loss: 0.5091(0.5228) Grad: 15439.0049  LR: 0.00002443  \n",
            "Epoch: [2][400/911] Elapsed 2m 53s (remain 3m 40s) Loss: 0.5801(0.5221) Grad: 30384.4082  LR: 0.00002384  \n",
            "Epoch: [2][500/911] Elapsed 3m 36s (remain 2m 57s) Loss: 0.5140(0.5232) Grad: 90037.1250  LR: 0.00002319  \n",
            "Epoch: [2][600/911] Elapsed 4m 19s (remain 2m 13s) Loss: 0.5603(0.5224) Grad: 98784.5234  LR: 0.00002248  \n",
            "Epoch: [2][700/911] Elapsed 5m 2s (remain 1m 30s) Loss: 0.6068(0.5226) Grad: 18507.9180  LR: 0.00002172  \n",
            "Epoch: [2][800/911] Elapsed 5m 45s (remain 0m 47s) Loss: 0.4998(0.5224) Grad: 33075.1133  LR: 0.00002091  \n",
            "Epoch: [2][900/911] Elapsed 6m 28s (remain 0m 4s) Loss: 0.5424(0.5219) Grad: 54536.5703  LR: 0.00002005  \n",
            "Epoch: [2][910/911] Elapsed 6m 33s (remain 0m 0s) Loss: 0.4665(0.5221) Grad: 16219.2900  LR: 0.00001996  \n",
            "EVAL: [0/228] Elapsed 0m 0s (remain 2m 49s) Loss: 0.5205(0.5205) \n",
            "EVAL: [100/228] Elapsed 0m 18s (remain 0m 23s) Loss: 0.5726(0.5318) \n",
            "EVAL: [200/228] Elapsed 0m 35s (remain 0m 4s) Loss: 0.5352(0.5320) \n"
          ]
        },
        {
          "name": "stderr",
          "output_type": "stream",
          "text": [
            "Epoch 2 - avg_train_loss: 0.5221  avg_val_loss: 0.5305  time: 434s\n",
            "Epoch 2 - Score: 0.8570\n",
            "Epoch 2 - Save Best Score: 0.8570 Model\n"
          ]
        },
        {
          "name": "stdout",
          "output_type": "stream",
          "text": [
            "EVAL: [227/228] Elapsed 0m 40s (remain 0m 0s) Loss: 0.4602(0.5305) \n",
            "Epoch: [3][0/911] Elapsed 0m 1s (remain 16m 36s) Loss: 0.5198(0.5198) Grad: 55195.0547  LR: 0.00001996  \n",
            "Epoch: [3][100/911] Elapsed 0m 44s (remain 5m 53s) Loss: 0.5370(0.5111) Grad: 70524.0078  LR: 0.00001906  \n",
            "Epoch: [3][200/911] Elapsed 1m 26s (remain 5m 7s) Loss: 0.5588(0.5095) Grad: 68990.7266  LR: 0.00001812  \n",
            "Epoch: [3][300/911] Elapsed 2m 10s (remain 4m 23s) Loss: 0.4536(0.5072) Grad: 90325.0391  LR: 0.00001716  \n",
            "Epoch: [3][400/911] Elapsed 2m 53s (remain 3m 40s) Loss: 0.5747(0.5074) Grad: 117514.0078  LR: 0.00001617  \n",
            "Epoch: [3][500/911] Elapsed 3m 36s (remain 2m 56s) Loss: 0.5106(0.5081) Grad: 47736.3438  LR: 0.00001517  \n",
            "Epoch: [3][600/911] Elapsed 4m 18s (remain 2m 13s) Loss: 0.5545(0.5069) Grad: 80665.2500  LR: 0.00001416  \n",
            "Epoch: [3][700/911] Elapsed 5m 1s (remain 1m 30s) Loss: 0.5135(0.5073) Grad: 66262.3828  LR: 0.00001314  \n",
            "Epoch: [3][800/911] Elapsed 5m 44s (remain 0m 47s) Loss: 0.5230(0.5078) Grad: 79873.9766  LR: 0.00001213  \n",
            "Epoch: [3][900/911] Elapsed 6m 28s (remain 0m 4s) Loss: 0.5115(0.5062) Grad: 53170.2695  LR: 0.00001112  \n",
            "Epoch: [3][910/911] Elapsed 6m 32s (remain 0m 0s) Loss: 0.5765(0.5061) Grad: 128479.8594  LR: 0.00001101  \n",
            "EVAL: [0/228] Elapsed 0m 0s (remain 2m 55s) Loss: 0.5270(0.5270) \n",
            "EVAL: [100/228] Elapsed 0m 18s (remain 0m 23s) Loss: 0.5657(0.5340) \n",
            "EVAL: [200/228] Elapsed 0m 35s (remain 0m 4s) Loss: 0.5403(0.5356) \n"
          ]
        },
        {
          "name": "stderr",
          "output_type": "stream",
          "text": [
            "Epoch 3 - avg_train_loss: 0.5061  avg_val_loss: 0.5333  time: 433s\n",
            "Epoch 3 - Score: 0.8612\n",
            "Epoch 3 - Save Best Score: 0.8612 Model\n"
          ]
        },
        {
          "name": "stdout",
          "output_type": "stream",
          "text": [
            "EVAL: [227/228] Elapsed 0m 40s (remain 0m 0s) Loss: 0.4857(0.5333) \n",
            "Epoch: [4][0/911] Elapsed 0m 1s (remain 16m 34s) Loss: 0.5535(0.5535) Grad: 53121.3047  LR: 0.00001100  \n",
            "Epoch: [4][100/911] Elapsed 0m 44s (remain 5m 55s) Loss: 0.5493(0.4976) Grad: 51581.3594  LR: 0.00001001  \n",
            "Epoch: [4][200/911] Elapsed 1m 27s (remain 5m 9s) Loss: 0.4571(0.4969) Grad: 41047.0430  LR: 0.00000903  \n",
            "Epoch: [4][300/911] Elapsed 2m 10s (remain 4m 25s) Loss: 0.5019(0.4967) Grad: 81314.3828  LR: 0.00000808  \n",
            "Epoch: [4][400/911] Elapsed 2m 53s (remain 3m 41s) Loss: 0.4191(0.4984) Grad: 51800.2891  LR: 0.00000716  \n",
            "Epoch: [4][500/911] Elapsed 3m 36s (remain 2m 57s) Loss: 0.5508(0.4990) Grad: 153688.3438  LR: 0.00000628  \n",
            "Epoch: [4][600/911] Elapsed 4m 19s (remain 2m 14s) Loss: 0.5406(0.5007) Grad: 26228.8809  LR: 0.00000543  \n",
            "Epoch: [4][700/911] Elapsed 5m 2s (remain 1m 30s) Loss: 0.4701(0.5005) Grad: 66782.9609  LR: 0.00000464  \n",
            "Epoch: [4][800/911] Elapsed 5m 45s (remain 0m 47s) Loss: 0.5131(0.5003) Grad: 25073.5059  LR: 0.00000389  \n",
            "Epoch: [4][900/911] Elapsed 6m 28s (remain 0m 4s) Loss: 0.4563(0.4996) Grad: 48413.6406  LR: 0.00000320  \n",
            "Epoch: [4][910/911] Elapsed 6m 33s (remain 0m 0s) Loss: 0.4775(0.4995) Grad: 41115.0977  LR: 0.00000313  \n",
            "EVAL: [0/228] Elapsed 0m 0s (remain 3m 15s) Loss: 0.5296(0.5296) \n",
            "EVAL: [100/228] Elapsed 0m 18s (remain 0m 23s) Loss: 0.5675(0.5375) \n",
            "EVAL: [200/228] Elapsed 0m 36s (remain 0m 4s) Loss: 0.5547(0.5392) \n"
          ]
        },
        {
          "name": "stderr",
          "output_type": "stream",
          "text": [
            "Epoch 4 - avg_train_loss: 0.4995  avg_val_loss: 0.5368  time: 434s\n",
            "Epoch 4 - Score: 0.8631\n",
            "Epoch 4 - Save Best Score: 0.8631 Model\n"
          ]
        },
        {
          "name": "stdout",
          "output_type": "stream",
          "text": [
            "EVAL: [227/228] Elapsed 0m 40s (remain 0m 0s) Loss: 0.4888(0.5368) \n",
            "Epoch: [5][0/911] Elapsed 0m 1s (remain 15m 17s) Loss: 0.5278(0.5278) Grad: 27074.0879  LR: 0.00000313  \n",
            "Epoch: [5][100/911] Elapsed 0m 44s (remain 5m 54s) Loss: 0.4978(0.4940) Grad: 82648.8125  LR: 0.00000250  \n",
            "Epoch: [5][200/911] Elapsed 1m 27s (remain 5m 8s) Loss: 0.5283(0.4958) Grad: 130347.1953  LR: 0.00000194  \n",
            "Epoch: [5][300/911] Elapsed 2m 10s (remain 4m 24s) Loss: 0.4444(0.4953) Grad: 30928.7617  LR: 0.00000144  \n",
            "Epoch: [5][400/911] Elapsed 2m 53s (remain 3m 40s) Loss: 0.4341(0.4976) Grad: 33897.6406  LR: 0.00000102  \n",
            "Epoch: [5][500/911] Elapsed 3m 36s (remain 2m 57s) Loss: 0.4584(0.4969) Grad: 65070.3750  LR: 0.00000066  \n",
            "Epoch: [5][600/911] Elapsed 4m 19s (remain 2m 13s) Loss: 0.5405(0.4975) Grad: 127620.0859  LR: 0.00000038  \n",
            "Epoch: [5][700/911] Elapsed 5m 2s (remain 1m 30s) Loss: 0.5333(0.4955) Grad: 342253.9688  LR: 0.00000018  \n",
            "Epoch: [5][800/911] Elapsed 5m 45s (remain 0m 47s) Loss: 0.4454(0.4964) Grad: 70067.4062  LR: 0.00000005  \n",
            "Epoch: [5][900/911] Elapsed 6m 28s (remain 0m 4s) Loss: 0.5474(0.4966) Grad: 114608.0625  LR: 0.00000000  \n",
            "Epoch: [5][910/911] Elapsed 6m 32s (remain 0m 0s) Loss: 0.5808(0.4965) Grad: 148041.0781  LR: 0.00000000  \n",
            "EVAL: [0/228] Elapsed 0m 0s (remain 2m 47s) Loss: 0.5301(0.5301) \n",
            "EVAL: [100/228] Elapsed 0m 18s (remain 0m 23s) Loss: 0.5667(0.5391) \n",
            "EVAL: [200/228] Elapsed 0m 35s (remain 0m 4s) Loss: 0.5564(0.5412) \n",
            "EVAL: [227/228] Elapsed 0m 40s (remain 0m 0s) Loss: 0.4921(0.5386) \n"
          ]
        },
        {
          "name": "stderr",
          "output_type": "stream",
          "text": [
            "Epoch 5 - avg_train_loss: 0.4965  avg_val_loss: 0.5386  time: 434s\n",
            "Epoch 5 - Score: 0.8621\n",
            "========== fold: 2 result ==========\n",
            "Score: 0.8631\n",
            "========== fold: 3 training ==========\n",
            "Some weights of the model checkpoint at microsoft/deberta-v3-large were not used when initializing DebertaV2Model: ['lm_predictions.lm_head.LayerNorm.bias', 'mask_predictions.classifier.weight', 'mask_predictions.dense.bias', 'mask_predictions.LayerNorm.bias', 'lm_predictions.lm_head.bias', 'lm_predictions.lm_head.dense.bias', 'mask_predictions.LayerNorm.weight', 'mask_predictions.classifier.bias', 'lm_predictions.lm_head.LayerNorm.weight', 'lm_predictions.lm_head.dense.weight', 'mask_predictions.dense.weight']\n",
            "- This IS expected if you are initializing DebertaV2Model from the checkpoint of a model trained on another task or with another architecture (e.g. initializing a BertForSequenceClassification model from a BertForPreTraining model).\n",
            "- This IS NOT expected if you are initializing DebertaV2Model from the checkpoint of a model that you expect to be exactly identical (initializing a BertForSequenceClassification model from a BertForSequenceClassification model).\n"
          ]
        },
        {
          "name": "stdout",
          "output_type": "stream",
          "text": [
            "num_train_steps:  4559\n",
            "Epoch: [1][0/911] Elapsed 0m 1s (remain 24m 44s) Loss: 0.8386(0.8386) Grad: inf  LR: 0.00000006  \n",
            "Epoch: [1][100/911] Elapsed 0m 44s (remain 5m 59s) Loss: 0.6251(0.6742) Grad: 23472.0430  LR: 0.00000589  \n",
            "Epoch: [1][200/911] Elapsed 1m 27s (remain 5m 10s) Loss: 0.6403(0.6352) Grad: 23676.0586  LR: 0.00001172  \n",
            "Epoch: [1][300/911] Elapsed 2m 11s (remain 4m 25s) Loss: 0.5269(0.6123) Grad: 25469.4473  LR: 0.00001756  \n",
            "Epoch: [1][400/911] Elapsed 2m 54s (remain 3m 41s) Loss: 0.5607(0.6013) Grad: 10537.9023  LR: 0.00002339  \n",
            "Epoch: [1][500/911] Elapsed 3m 37s (remain 2m 57s) Loss: 0.5641(0.5933) Grad: 9033.8936  LR: 0.00002659  \n",
            "Epoch: [1][600/911] Elapsed 4m 20s (remain 2m 14s) Loss: 0.6055(0.5858) Grad: 11078.2393  LR: 0.00002652  \n",
            "Epoch: [1][700/911] Elapsed 5m 3s (remain 1m 30s) Loss: 0.5296(0.5798) Grad: 10158.4180  LR: 0.00002637  \n",
            "Epoch: [1][800/911] Elapsed 5m 46s (remain 0m 47s) Loss: 0.4724(0.5764) Grad: 8906.6572  LR: 0.00002614  \n",
            "Epoch: [1][900/911] Elapsed 6m 29s (remain 0m 4s) Loss: 0.5156(0.5733) Grad: 16767.2070  LR: 0.00002584  \n",
            "Epoch: [1][910/911] Elapsed 6m 33s (remain 0m 0s) Loss: 0.5542(0.5729) Grad: 17441.7461  LR: 0.00002580  \n",
            "EVAL: [0/228] Elapsed 0m 0s (remain 3m 4s) Loss: 0.5346(0.5346) \n",
            "EVAL: [100/228] Elapsed 0m 18s (remain 0m 23s) Loss: 0.5291(0.5455) \n",
            "EVAL: [200/228] Elapsed 0m 36s (remain 0m 4s) Loss: 0.5819(0.5452) \n"
          ]
        },
        {
          "name": "stderr",
          "output_type": "stream",
          "text": [
            "Epoch 1 - avg_train_loss: 0.5729  avg_val_loss: 0.5453  time: 435s\n",
            "Epoch 1 - Score: 0.8176\n",
            "Epoch 1 - Save Best Score: 0.8176 Model\n"
          ]
        },
        {
          "name": "stdout",
          "output_type": "stream",
          "text": [
            "EVAL: [227/228] Elapsed 0m 40s (remain 0m 0s) Loss: 0.5055(0.5453) \n",
            "Epoch: [2][0/911] Elapsed 0m 1s (remain 16m 36s) Loss: 0.5446(0.5446) Grad: 55827.1719  LR: 0.00002580  \n",
            "Epoch: [2][100/911] Elapsed 0m 44s (remain 5m 53s) Loss: 0.5389(0.5312) Grad: 105457.6016  LR: 0.00002541  \n",
            "Epoch: [2][200/911] Elapsed 1m 27s (remain 5m 7s) Loss: 0.4908(0.5319) Grad: 79405.7734  LR: 0.00002496  \n",
            "Epoch: [2][300/911] Elapsed 2m 10s (remain 4m 24s) Loss: 0.4791(0.5285) Grad: 103202.4375  LR: 0.00002443  \n",
            "Epoch: [2][400/911] Elapsed 2m 53s (remain 3m 40s) Loss: 0.4556(0.5271) Grad: 111745.5469  LR: 0.00002384  \n",
            "Epoch: [2][500/911] Elapsed 3m 36s (remain 2m 57s) Loss: 0.5980(0.5253) Grad: 33912.6641  LR: 0.00002319  \n",
            "Epoch: [2][600/911] Elapsed 4m 19s (remain 2m 13s) Loss: 0.6082(0.5232) Grad: 452900.7500  LR: 0.00002248  \n",
            "Epoch: [2][700/911] Elapsed 5m 2s (remain 1m 30s) Loss: 0.4931(0.5220) Grad: 33175.0508  LR: 0.00002172  \n",
            "Epoch: [2][800/911] Elapsed 5m 45s (remain 0m 47s) Loss: 0.6416(0.5217) Grad: 44496.8320  LR: 0.00002091  \n",
            "Epoch: [2][900/911] Elapsed 6m 28s (remain 0m 4s) Loss: 0.5198(0.5216) Grad: 76578.5938  LR: 0.00002005  \n",
            "Epoch: [2][910/911] Elapsed 6m 33s (remain 0m 0s) Loss: 0.4862(0.5215) Grad: 145707.7656  LR: 0.00001996  \n",
            "EVAL: [0/228] Elapsed 0m 0s (remain 2m 55s) Loss: 0.5212(0.5212) \n",
            "EVAL: [100/228] Elapsed 0m 18s (remain 0m 23s) Loss: 0.5200(0.5356) \n",
            "EVAL: [200/228] Elapsed 0m 35s (remain 0m 4s) Loss: 0.5099(0.5372) \n"
          ]
        },
        {
          "name": "stderr",
          "output_type": "stream",
          "text": [
            "Epoch 2 - avg_train_loss: 0.5215  avg_val_loss: 0.5367  time: 434s\n",
            "Epoch 2 - Score: 0.8466\n",
            "Epoch 2 - Save Best Score: 0.8466 Model\n"
          ]
        },
        {
          "name": "stdout",
          "output_type": "stream",
          "text": [
            "EVAL: [227/228] Elapsed 0m 40s (remain 0m 0s) Loss: 0.4945(0.5367) \n",
            "Epoch: [3][0/911] Elapsed 0m 1s (remain 15m 16s) Loss: 0.5430(0.5430) Grad: 52155.2969  LR: 0.00001996  \n",
            "Epoch: [3][100/911] Elapsed 0m 44s (remain 5m 53s) Loss: 0.4845(0.5164) Grad: 54416.9180  LR: 0.00001906  \n",
            "Epoch: [3][200/911] Elapsed 1m 27s (remain 5m 7s) Loss: 0.5205(0.5174) Grad: 77122.2578  LR: 0.00001812  \n",
            "Epoch: [3][300/911] Elapsed 2m 9s (remain 4m 23s) Loss: 0.4647(0.5133) Grad: 39017.0508  LR: 0.00001716  \n",
            "Epoch: [3][400/911] Elapsed 2m 52s (remain 3m 39s) Loss: 0.4332(0.5117) Grad: 76327.7188  LR: 0.00001617  \n",
            "Epoch: [3][500/911] Elapsed 3m 35s (remain 2m 56s) Loss: 0.4747(0.5117) Grad: 161610.3281  LR: 0.00001517  \n",
            "Epoch: [3][600/911] Elapsed 4m 18s (remain 2m 13s) Loss: 0.5487(0.5104) Grad: 84263.5547  LR: 0.00001416  \n",
            "Epoch: [3][700/911] Elapsed 5m 2s (remain 1m 30s) Loss: 0.4662(0.5098) Grad: 20553.4707  LR: 0.00001314  \n",
            "Epoch: [3][800/911] Elapsed 5m 45s (remain 0m 47s) Loss: 0.5568(0.5087) Grad: 91018.2422  LR: 0.00001213  \n",
            "Epoch: [3][900/911] Elapsed 6m 28s (remain 0m 4s) Loss: 0.5569(0.5090) Grad: 73740.1641  LR: 0.00001112  \n",
            "Epoch: [3][910/911] Elapsed 6m 32s (remain 0m 0s) Loss: 0.4349(0.5090) Grad: 87355.3906  LR: 0.00001101  \n",
            "EVAL: [0/228] Elapsed 0m 0s (remain 3m 40s) Loss: 0.5217(0.5217) \n",
            "EVAL: [100/228] Elapsed 0m 18s (remain 0m 23s) Loss: 0.5114(0.5361) \n",
            "EVAL: [200/228] Elapsed 0m 36s (remain 0m 4s) Loss: 0.5047(0.5380) \n"
          ]
        },
        {
          "name": "stderr",
          "output_type": "stream",
          "text": [
            "Epoch 3 - avg_train_loss: 0.5090  avg_val_loss: 0.5378  time: 434s\n",
            "Epoch 3 - Score: 0.8558\n",
            "Epoch 3 - Save Best Score: 0.8558 Model\n"
          ]
        },
        {
          "name": "stdout",
          "output_type": "stream",
          "text": [
            "EVAL: [227/228] Elapsed 0m 40s (remain 0m 0s) Loss: 0.4817(0.5378) \n",
            "Epoch: [4][0/911] Elapsed 0m 1s (remain 16m 30s) Loss: 0.4837(0.4837) Grad: 144052.3438  LR: 0.00001100  \n",
            "Epoch: [4][100/911] Elapsed 0m 44s (remain 5m 53s) Loss: 0.4936(0.5002) Grad: 43564.9336  LR: 0.00001001  \n",
            "Epoch: [4][200/911] Elapsed 1m 27s (remain 5m 7s) Loss: 0.4335(0.4998) Grad: 46146.0625  LR: 0.00000903  \n",
            "Epoch: [4][300/911] Elapsed 2m 10s (remain 4m 23s) Loss: 0.5451(0.4998) Grad: 74963.7031  LR: 0.00000808  \n",
            "Epoch: [4][400/911] Elapsed 2m 53s (remain 3m 40s) Loss: 0.5431(0.5009) Grad: 54007.4414  LR: 0.00000716  \n",
            "Epoch: [4][500/911] Elapsed 3m 36s (remain 2m 56s) Loss: 0.5278(0.5007) Grad: 28365.8965  LR: 0.00000628  \n",
            "Epoch: [4][600/911] Elapsed 4m 19s (remain 2m 13s) Loss: 0.4716(0.5022) Grad: 102820.3203  LR: 0.00000543  \n",
            "Epoch: [4][700/911] Elapsed 5m 1s (remain 1m 30s) Loss: 0.4186(0.5014) Grad: 98733.4297  LR: 0.00000464  \n",
            "Epoch: [4][800/911] Elapsed 5m 44s (remain 0m 47s) Loss: 0.5592(0.5024) Grad: 78110.0312  LR: 0.00000389  \n",
            "Epoch: [4][900/911] Elapsed 6m 27s (remain 0m 4s) Loss: 0.4337(0.5017) Grad: 102215.8906  LR: 0.00000320  \n",
            "Epoch: [4][910/911] Elapsed 6m 32s (remain 0m 0s) Loss: 0.4345(0.5018) Grad: 72763.6562  LR: 0.00000313  \n",
            "EVAL: [0/228] Elapsed 0m 0s (remain 3m 9s) Loss: 0.5249(0.5249) \n",
            "EVAL: [100/228] Elapsed 0m 18s (remain 0m 23s) Loss: 0.5081(0.5364) \n",
            "EVAL: [200/228] Elapsed 0m 35s (remain 0m 4s) Loss: 0.4977(0.5392) \n"
          ]
        },
        {
          "name": "stderr",
          "output_type": "stream",
          "text": [
            "Epoch 4 - avg_train_loss: 0.5018  avg_val_loss: 0.5386  time: 433s\n",
            "Epoch 4 - Score: 0.8576\n",
            "Epoch 4 - Save Best Score: 0.8576 Model\n"
          ]
        },
        {
          "name": "stdout",
          "output_type": "stream",
          "text": [
            "EVAL: [227/228] Elapsed 0m 40s (remain 0m 0s) Loss: 0.4700(0.5386) \n",
            "Epoch: [5][0/911] Elapsed 0m 1s (remain 16m 26s) Loss: 0.4910(0.4910) Grad: 31018.2539  LR: 0.00000313  \n",
            "Epoch: [5][100/911] Elapsed 0m 44s (remain 5m 54s) Loss: 0.4946(0.5001) Grad: 35120.6484  LR: 0.00000250  \n",
            "Epoch: [5][200/911] Elapsed 1m 27s (remain 5m 8s) Loss: 0.4824(0.4960) Grad: 73252.6797  LR: 0.00000194  \n",
            "Epoch: [5][300/911] Elapsed 2m 10s (remain 4m 24s) Loss: 0.4917(0.4965) Grad: 33660.6562  LR: 0.00000144  \n",
            "Epoch: [5][400/911] Elapsed 2m 53s (remain 3m 40s) Loss: 0.5091(0.4975) Grad: 64230.8320  LR: 0.00000102  \n",
            "Epoch: [5][500/911] Elapsed 3m 36s (remain 2m 57s) Loss: 0.5242(0.4978) Grad: 71329.9844  LR: 0.00000066  \n",
            "Epoch: [5][600/911] Elapsed 4m 19s (remain 2m 14s) Loss: 0.4926(0.4979) Grad: 83195.8594  LR: 0.00000038  \n",
            "Epoch: [5][700/911] Elapsed 5m 2s (remain 1m 30s) Loss: 0.5441(0.4974) Grad: 49274.4688  LR: 0.00000018  \n",
            "Epoch: [5][800/911] Elapsed 5m 45s (remain 0m 47s) Loss: 0.4961(0.4977) Grad: 103974.3906  LR: 0.00000005  \n",
            "Epoch: [5][900/911] Elapsed 6m 29s (remain 0m 4s) Loss: 0.6083(0.4977) Grad: 250490.1875  LR: 0.00000000  \n",
            "Epoch: [5][910/911] Elapsed 6m 33s (remain 0m 0s) Loss: 0.5054(0.4977) Grad: 185004.3750  LR: 0.00000000  \n",
            "EVAL: [0/228] Elapsed 0m 0s (remain 2m 55s) Loss: 0.5294(0.5294) \n",
            "EVAL: [100/228] Elapsed 0m 18s (remain 0m 23s) Loss: 0.5064(0.5389) \n",
            "EVAL: [200/228] Elapsed 0m 35s (remain 0m 4s) Loss: 0.4938(0.5419) \n"
          ]
        },
        {
          "name": "stderr",
          "output_type": "stream",
          "text": [
            "Epoch 5 - avg_train_loss: 0.4977  avg_val_loss: 0.5412  time: 434s\n",
            "Epoch 5 - Score: 0.8580\n",
            "Epoch 5 - Save Best Score: 0.8580 Model\n"
          ]
        },
        {
          "name": "stdout",
          "output_type": "stream",
          "text": [
            "EVAL: [227/228] Elapsed 0m 40s (remain 0m 0s) Loss: 0.4696(0.5412) \n"
          ]
        },
        {
          "name": "stderr",
          "output_type": "stream",
          "text": [
            "========== fold: 3 result ==========\n",
            "Score: 0.8580\n",
            "========== fold: 4 training ==========\n",
            "Some weights of the model checkpoint at microsoft/deberta-v3-large were not used when initializing DebertaV2Model: ['lm_predictions.lm_head.LayerNorm.bias', 'mask_predictions.classifier.weight', 'mask_predictions.dense.bias', 'mask_predictions.LayerNorm.bias', 'lm_predictions.lm_head.bias', 'lm_predictions.lm_head.dense.bias', 'mask_predictions.LayerNorm.weight', 'mask_predictions.classifier.bias', 'lm_predictions.lm_head.LayerNorm.weight', 'lm_predictions.lm_head.dense.weight', 'mask_predictions.dense.weight']\n",
            "- This IS expected if you are initializing DebertaV2Model from the checkpoint of a model trained on another task or with another architecture (e.g. initializing a BertForSequenceClassification model from a BertForPreTraining model).\n",
            "- This IS NOT expected if you are initializing DebertaV2Model from the checkpoint of a model that you expect to be exactly identical (initializing a BertForSequenceClassification model from a BertForSequenceClassification model).\n"
          ]
        },
        {
          "name": "stdout",
          "output_type": "stream",
          "text": [
            "num_train_steps:  4559\n",
            "Epoch: [1][0/911] Elapsed 0m 1s (remain 17m 35s) Loss: 0.6959(0.6959) Grad: inf  LR: 0.00000006  \n",
            "Epoch: [1][100/911] Elapsed 0m 44s (remain 5m 52s) Loss: 0.6254(0.6532) Grad: 9225.7061  LR: 0.00000589  \n",
            "Epoch: [1][200/911] Elapsed 1m 27s (remain 5m 7s) Loss: 0.5649(0.6260) Grad: 9891.7080  LR: 0.00001172  \n",
            "Epoch: [1][300/911] Elapsed 2m 10s (remain 4m 23s) Loss: 0.5258(0.6088) Grad: 20513.1504  LR: 0.00001756  \n",
            "Epoch: [1][400/911] Elapsed 2m 52s (remain 3m 39s) Loss: 0.5363(0.5982) Grad: 17831.9141  LR: 0.00002339  \n",
            "Epoch: [1][500/911] Elapsed 3m 35s (remain 2m 56s) Loss: 0.5348(0.5907) Grad: 16938.1367  LR: 0.00002659  \n",
            "Epoch: [1][600/911] Elapsed 4m 18s (remain 2m 13s) Loss: 0.5183(0.5843) Grad: 10457.2803  LR: 0.00002652  \n",
            "Epoch: [1][700/911] Elapsed 5m 1s (remain 1m 30s) Loss: 0.5307(0.5806) Grad: 8325.2256  LR: 0.00002637  \n",
            "Epoch: [1][800/911] Elapsed 5m 44s (remain 0m 47s) Loss: 0.5964(0.5766) Grad: 40976.6328  LR: 0.00002614  \n",
            "Epoch: [1][900/911] Elapsed 6m 27s (remain 0m 4s) Loss: 0.5161(0.5725) Grad: 11607.3564  LR: 0.00002584  \n",
            "Epoch: [1][910/911] Elapsed 6m 31s (remain 0m 0s) Loss: 0.5607(0.5721) Grad: 7867.0557  LR: 0.00002580  \n",
            "EVAL: [0/228] Elapsed 0m 0s (remain 2m 59s) Loss: 0.4611(0.4611) \n",
            "EVAL: [100/228] Elapsed 0m 18s (remain 0m 23s) Loss: 0.5291(0.5430) \n",
            "EVAL: [200/228] Elapsed 0m 35s (remain 0m 4s) Loss: 0.4651(0.5431) \n"
          ]
        },
        {
          "name": "stderr",
          "output_type": "stream",
          "text": [
            "Epoch 1 - avg_train_loss: 0.5721  avg_val_loss: 0.5431  time: 433s\n",
            "Epoch 1 - Score: 0.8297\n",
            "Epoch 1 - Save Best Score: 0.8297 Model\n"
          ]
        },
        {
          "name": "stdout",
          "output_type": "stream",
          "text": [
            "EVAL: [227/228] Elapsed 0m 40s (remain 0m 0s) Loss: 0.4799(0.5431) \n",
            "Epoch: [2][0/911] Elapsed 0m 1s (remain 16m 34s) Loss: 0.4940(0.4940) Grad: 58567.7070  LR: 0.00002580  \n",
            "Epoch: [2][100/911] Elapsed 0m 44s (remain 5m 53s) Loss: 0.6050(0.5319) Grad: 58600.6172  LR: 0.00002541  \n",
            "Epoch: [2][200/911] Elapsed 1m 26s (remain 5m 6s) Loss: 0.5140(0.5289) Grad: 42543.4062  LR: 0.00002496  \n",
            "Epoch: [2][300/911] Elapsed 2m 9s (remain 4m 23s) Loss: 0.4984(0.5281) Grad: 44883.0547  LR: 0.00002443  \n",
            "Epoch: [2][400/911] Elapsed 2m 52s (remain 3m 39s) Loss: 0.4872(0.5270) Grad: 48320.5195  LR: 0.00002384  \n",
            "Epoch: [2][500/911] Elapsed 3m 35s (remain 2m 56s) Loss: 0.4808(0.5260) Grad: 20466.6094  LR: 0.00002319  \n",
            "Epoch: [2][600/911] Elapsed 4m 19s (remain 2m 13s) Loss: 0.4954(0.5242) Grad: 78565.8672  LR: 0.00002248  \n",
            "Epoch: [2][700/911] Elapsed 5m 1s (remain 1m 30s) Loss: 0.5934(0.5231) Grad: 23529.9062  LR: 0.00002172  \n",
            "Epoch: [2][800/911] Elapsed 5m 45s (remain 0m 47s) Loss: 0.5485(0.5227) Grad: 53854.5859  LR: 0.00002091  \n",
            "Epoch: [2][900/911] Elapsed 6m 28s (remain 0m 4s) Loss: 0.5161(0.5221) Grad: 83280.7891  LR: 0.00002005  \n",
            "Epoch: [2][910/911] Elapsed 6m 32s (remain 0m 0s) Loss: 0.5700(0.5223) Grad: 36820.2031  LR: 0.00001996  \n",
            "EVAL: [0/228] Elapsed 0m 0s (remain 3m 16s) Loss: 0.4427(0.4427) \n",
            "EVAL: [100/228] Elapsed 0m 18s (remain 0m 23s) Loss: 0.5255(0.5301) \n",
            "EVAL: [200/228] Elapsed 0m 36s (remain 0m 4s) Loss: 0.4472(0.5291) \n"
          ]
        },
        {
          "name": "stderr",
          "output_type": "stream",
          "text": [
            "Epoch 2 - avg_train_loss: 0.5223  avg_val_loss: 0.5286  time: 434s\n",
            "Epoch 2 - Score: 0.8578\n",
            "Epoch 2 - Save Best Score: 0.8578 Model\n"
          ]
        },
        {
          "name": "stdout",
          "output_type": "stream",
          "text": [
            "EVAL: [227/228] Elapsed 0m 40s (remain 0m 0s) Loss: 0.4566(0.5286) \n",
            "Epoch: [3][0/911] Elapsed 0m 1s (remain 15m 48s) Loss: 0.4552(0.4552) Grad: 26657.7988  LR: 0.00001996  \n",
            "Epoch: [3][100/911] Elapsed 0m 44s (remain 5m 54s) Loss: 0.5276(0.5080) Grad: 100824.4531  LR: 0.00001906  \n",
            "Epoch: [3][200/911] Elapsed 1m 27s (remain 5m 7s) Loss: 0.4955(0.5067) Grad: 119212.4609  LR: 0.00001812  \n",
            "Epoch: [3][300/911] Elapsed 2m 10s (remain 4m 23s) Loss: 0.5133(0.5072) Grad: 84305.2891  LR: 0.00001716  \n",
            "Epoch: [3][400/911] Elapsed 2m 53s (remain 3m 40s) Loss: 0.5711(0.5066) Grad: 48654.5820  LR: 0.00001617  \n",
            "Epoch: [3][500/911] Elapsed 3m 36s (remain 2m 57s) Loss: 0.5222(0.5052) Grad: 58572.3828  LR: 0.00001517  \n",
            "Epoch: [3][600/911] Elapsed 4m 19s (remain 2m 13s) Loss: 0.5523(0.5060) Grad: 83737.2891  LR: 0.00001416  \n",
            "Epoch: [3][700/911] Elapsed 5m 2s (remain 1m 30s) Loss: 0.4020(0.5052) Grad: 33966.5391  LR: 0.00001314  \n",
            "Epoch: [3][800/911] Elapsed 5m 45s (remain 0m 47s) Loss: 0.3919(0.5060) Grad: 39213.0703  LR: 0.00001213  \n",
            "Epoch: [3][900/911] Elapsed 6m 28s (remain 0m 4s) Loss: 0.5091(0.5063) Grad: 89331.3906  LR: 0.00001112  \n",
            "Epoch: [3][910/911] Elapsed 6m 32s (remain 0m 0s) Loss: 0.4803(0.5067) Grad: 76048.7422  LR: 0.00001101  \n",
            "EVAL: [0/228] Elapsed 0m 0s (remain 3m 22s) Loss: 0.4528(0.4528) \n",
            "EVAL: [100/228] Elapsed 0m 18s (remain 0m 23s) Loss: 0.5429(0.5354) \n",
            "EVAL: [200/228] Elapsed 0m 36s (remain 0m 4s) Loss: 0.4467(0.5356) \n"
          ]
        },
        {
          "name": "stderr",
          "output_type": "stream",
          "text": [
            "Epoch 3 - avg_train_loss: 0.5067  avg_val_loss: 0.5353  time: 434s\n",
            "Epoch 3 - Score: 0.8613\n",
            "Epoch 3 - Save Best Score: 0.8613 Model\n"
          ]
        },
        {
          "name": "stdout",
          "output_type": "stream",
          "text": [
            "EVAL: [227/228] Elapsed 0m 40s (remain 0m 0s) Loss: 0.4516(0.5353) \n",
            "Epoch: [4][0/911] Elapsed 0m 1s (remain 16m 34s) Loss: 0.4853(0.4853) Grad: 30245.8457  LR: 0.00001100  \n",
            "Epoch: [4][100/911] Elapsed 0m 44s (remain 5m 54s) Loss: 0.4879(0.5016) Grad: 29811.9258  LR: 0.00001001  \n",
            "Epoch: [4][200/911] Elapsed 1m 27s (remain 5m 8s) Loss: 0.4440(0.4967) Grad: 63911.5977  LR: 0.00000903  \n",
            "Epoch: [4][300/911] Elapsed 2m 10s (remain 4m 24s) Loss: 0.5809(0.5023) Grad: 98830.8516  LR: 0.00000808  \n",
            "Epoch: [4][400/911] Elapsed 2m 53s (remain 3m 40s) Loss: 0.3920(0.5027) Grad: 20967.4004  LR: 0.00000716  \n",
            "Epoch: [4][500/911] Elapsed 3m 36s (remain 2m 57s) Loss: 0.5844(0.5022) Grad: 73951.7734  LR: 0.00000628  \n",
            "Epoch: [4][600/911] Elapsed 4m 19s (remain 2m 13s) Loss: 0.5392(0.5024) Grad: 152395.9375  LR: 0.00000543  \n",
            "Epoch: [4][700/911] Elapsed 5m 2s (remain 1m 30s) Loss: 0.5309(0.5015) Grad: 169499.6875  LR: 0.00000464  \n",
            "Epoch: [4][800/911] Elapsed 5m 45s (remain 0m 47s) Loss: 0.5159(0.5014) Grad: 30413.3145  LR: 0.00000389  \n",
            "Epoch: [4][900/911] Elapsed 6m 28s (remain 0m 4s) Loss: 0.5005(0.4994) Grad: 56560.8477  LR: 0.00000320  \n",
            "Epoch: [4][910/911] Elapsed 6m 32s (remain 0m 0s) Loss: 0.5354(0.4996) Grad: 47791.5742  LR: 0.00000313  \n",
            "EVAL: [0/228] Elapsed 0m 0s (remain 3m 23s) Loss: 0.4441(0.4441) \n",
            "EVAL: [100/228] Elapsed 0m 18s (remain 0m 23s) Loss: 0.5448(0.5345) \n",
            "EVAL: [200/228] Elapsed 0m 36s (remain 0m 4s) Loss: 0.4426(0.5359) \n",
            "EVAL: [227/228] Elapsed 0m 40s (remain 0m 0s) Loss: 0.4465(0.5357) \n"
          ]
        },
        {
          "name": "stderr",
          "output_type": "stream",
          "text": [
            "Epoch 4 - avg_train_loss: 0.4996  avg_val_loss: 0.5357  time: 434s\n",
            "Epoch 4 - Score: 0.8623\n",
            "Epoch 4 - Save Best Score: 0.8623 Model\n"
          ]
        },
        {
          "name": "stdout",
          "output_type": "stream",
          "text": [
            "Epoch: [5][0/911] Elapsed 0m 1s (remain 15m 29s) Loss: 0.4889(0.4889) Grad: 47702.8242  LR: 0.00000313  \n",
            "Epoch: [5][100/911] Elapsed 0m 43s (remain 5m 52s) Loss: 0.5549(0.4942) Grad: 30747.5938  LR: 0.00000250  \n",
            "Epoch: [5][200/911] Elapsed 1m 26s (remain 5m 6s) Loss: 0.4817(0.4981) Grad: 41315.5430  LR: 0.00000194  \n",
            "Epoch: [5][300/911] Elapsed 2m 9s (remain 4m 23s) Loss: 0.4966(0.4984) Grad: 38222.4805  LR: 0.00000144  \n",
            "Epoch: [5][400/911] Elapsed 2m 52s (remain 3m 40s) Loss: 0.4613(0.4984) Grad: 86101.1719  LR: 0.00000102  \n",
            "Epoch: [5][500/911] Elapsed 3m 35s (remain 2m 56s) Loss: 0.5506(0.4974) Grad: 72646.9844  LR: 0.00000066  \n",
            "Epoch: [5][600/911] Elapsed 4m 18s (remain 2m 13s) Loss: 0.5097(0.4990) Grad: 52406.1367  LR: 0.00000038  \n",
            "Epoch: [5][700/911] Elapsed 5m 1s (remain 1m 30s) Loss: 0.4598(0.4985) Grad: 47606.7734  LR: 0.00000018  \n",
            "Epoch: [5][800/911] Elapsed 5m 45s (remain 0m 47s) Loss: 0.5640(0.4983) Grad: 68345.6250  LR: 0.00000005  \n",
            "Epoch: [5][900/911] Elapsed 6m 28s (remain 0m 4s) Loss: 0.4730(0.4969) Grad: 54528.7578  LR: 0.00000000  \n",
            "Epoch: [5][910/911] Elapsed 6m 32s (remain 0m 0s) Loss: 0.5640(0.4967) Grad: 54886.0625  LR: 0.00000000  \n",
            "EVAL: [0/228] Elapsed 0m 0s (remain 3m 24s) Loss: 0.4435(0.4435) \n",
            "EVAL: [100/228] Elapsed 0m 18s (remain 0m 23s) Loss: 0.5490(0.5355) \n",
            "EVAL: [200/228] Elapsed 0m 36s (remain 0m 4s) Loss: 0.4423(0.5371) \n"
          ]
        },
        {
          "name": "stderr",
          "output_type": "stream",
          "text": [
            "Epoch 5 - avg_train_loss: 0.4967  avg_val_loss: 0.5370  time: 434s\n",
            "Epoch 5 - Score: 0.8632\n",
            "Epoch 5 - Save Best Score: 0.8632 Model\n"
          ]
        },
        {
          "name": "stdout",
          "output_type": "stream",
          "text": [
            "EVAL: [227/228] Elapsed 0m 40s (remain 0m 0s) Loss: 0.4474(0.5370) \n"
          ]
        },
        {
          "name": "stderr",
          "output_type": "stream",
          "text": [
            "========== fold: 4 result ==========\n",
            "Score: 0.8632\n",
            "========== CV ==========\n",
            "Score: 0.8634\n"
          ]
        }
      ],
      "source": [
        "if __name__ == '__main__':\n",
        "    \n",
        "    def get_result(oof_df):\n",
        "        labels = oof_df['score'].values\n",
        "        preds = oof_df['pred'].values\n",
        "        score = get_score(labels, preds)\n",
        "        LOGGER.info(f'Score: {score:<.4f}')\n",
        "    \n",
        "    if CFG.train:\n",
        "        oof_df = pd.DataFrame()\n",
        "        for fold in range(CFG.n_fold):\n",
        "            if fold in CFG.trn_fold:\n",
        "                _oof_df = train_loop(train, fold)\n",
        "                oof_df = pd.concat([oof_df, _oof_df])\n",
        "                LOGGER.info(f\"========== fold: {fold} result ==========\")\n",
        "                get_result(_oof_df)\n",
        "        oof_df = oof_df.reset_index(drop=True)\n",
        "        LOGGER.info(f\"========== CV ==========\")\n",
        "        get_result(oof_df)\n",
        "        oof_df.to_pickle(OUTPUT_DIR+'oof_df.pkl')\n",
        "        \n",
        "    if CFG.wandb:\n",
        "        wandb.finish()"
      ]
    },
    {
      "cell_type": "code",
      "execution_count": null,
      "metadata": {
        "id": "fbZKXXxEDHmL"
      },
      "outputs": [],
      "source": [
        ""
      ]
    }
  ],
  "metadata": {
    "accelerator": "GPU",
    "colab": {
      "collapsed_sections": [],
      "machine_shape": "hm",
      "name": "PPPM_Deberta_v3_4a.ipynb",
      "provenance": []
    },
    "kernelspec": {
      "display_name": "Python 3",
      "language": "python",
      "name": "python3"
    },
    "language_info": {
      "codemirror_mode": {
        "name": "ipython",
        "version": 3
      },
      "file_extension": ".py",
      "mimetype": "text/x-python",
      "name": "python",
      "nbconvert_exporter": "python",
      "pygments_lexer": "ipython3",
      "version": "3.8.8"
    },
    "widgets": {
      "application/vnd.jupyter.widget-state+json": {
        "014c191667ae4c62854aaf4882bf66ce": {
          "model_module": "@jupyter-widgets/controls",
          "model_module_version": "1.5.0",
          "model_name": "DescriptionStyleModel",
          "state": {
            "_model_module": "@jupyter-widgets/controls",
            "_model_module_version": "1.5.0",
            "_model_name": "DescriptionStyleModel",
            "_view_count": null,
            "_view_module": "@jupyter-widgets/base",
            "_view_module_version": "1.2.0",
            "_view_name": "StyleView",
            "description_width": ""
          }
        },
        "048d7520014a4f5b82731134c9555f3f": {
          "model_module": "@jupyter-widgets/controls",
          "model_module_version": "1.5.0",
          "model_name": "DescriptionStyleModel",
          "state": {
            "_model_module": "@jupyter-widgets/controls",
            "_model_module_version": "1.5.0",
            "_model_name": "DescriptionStyleModel",
            "_view_count": null,
            "_view_module": "@jupyter-widgets/base",
            "_view_module_version": "1.2.0",
            "_view_name": "StyleView",
            "description_width": ""
          }
        },
        "0beaabe6d09847f49965e40ed7d6884f": {
          "model_module": "@jupyter-widgets/base",
          "model_module_version": "1.2.0",
          "model_name": "LayoutModel",
          "state": {
            "_model_module": "@jupyter-widgets/base",
            "_model_module_version": "1.2.0",
            "_model_name": "LayoutModel",
            "_view_count": null,
            "_view_module": "@jupyter-widgets/base",
            "_view_module_version": "1.2.0",
            "_view_name": "LayoutView",
            "align_content": null,
            "align_items": null,
            "align_self": null,
            "border": null,
            "bottom": null,
            "display": null,
            "flex": null,
            "flex_flow": null,
            "grid_area": null,
            "grid_auto_columns": null,
            "grid_auto_flow": null,
            "grid_auto_rows": null,
            "grid_column": null,
            "grid_gap": null,
            "grid_row": null,
            "grid_template_areas": null,
            "grid_template_columns": null,
            "grid_template_rows": null,
            "height": null,
            "justify_content": null,
            "justify_items": null,
            "left": null,
            "margin": null,
            "max_height": null,
            "max_width": null,
            "min_height": null,
            "min_width": null,
            "object_fit": null,
            "object_position": null,
            "order": null,
            "overflow": null,
            "overflow_x": null,
            "overflow_y": null,
            "padding": null,
            "right": null,
            "top": null,
            "visibility": null,
            "width": null
          }
        },
        "16eae71475fb4d53a67114af16a1918f": {
          "model_module": "@jupyter-widgets/controls",
          "model_module_version": "1.5.0",
          "model_name": "HBoxModel",
          "state": {
            "_dom_classes": [],
            "_model_module": "@jupyter-widgets/controls",
            "_model_module_version": "1.5.0",
            "_model_name": "HBoxModel",
            "_view_count": null,
            "_view_module": "@jupyter-widgets/controls",
            "_view_module_version": "1.5.0",
            "_view_name": "HBoxView",
            "box_style": "",
            "children": [
              "IPY_MODEL_eb4b1c7049224cf8a0707fe5d85f759b",
              "IPY_MODEL_44ffae46281e469b986b80c074857876",
              "IPY_MODEL_957e9624d0c84878aef1d9a13732157c"
            ],
            "layout": "IPY_MODEL_4dc64f8e51cf4f6581d5145b7c6c35f6"
          }
        },
        "20076a58b6de48c2943e8bc79b88d79f": {
          "model_module": "@jupyter-widgets/controls",
          "model_module_version": "1.5.0",
          "model_name": "HTMLModel",
          "state": {
            "_dom_classes": [],
            "_model_module": "@jupyter-widgets/controls",
            "_model_module_version": "1.5.0",
            "_model_name": "HTMLModel",
            "_view_count": null,
            "_view_module": "@jupyter-widgets/controls",
            "_view_module_version": "1.5.0",
            "_view_name": "HTMLView",
            "description": "",
            "description_tooltip": null,
            "layout": "IPY_MODEL_da2d6a44f76a4e18bbaf3df84c24a6a8",
            "placeholder": "​",
            "style": "IPY_MODEL_014c191667ae4c62854aaf4882bf66ce",
            "value": "100%"
          }
        },
        "3144b059c05f451d9b7dc153bf09d2bb": {
          "model_module": "@jupyter-widgets/controls",
          "model_module_version": "1.5.0",
          "model_name": "FloatProgressModel",
          "state": {
            "_dom_classes": [],
            "_model_module": "@jupyter-widgets/controls",
            "_model_module_version": "1.5.0",
            "_model_name": "FloatProgressModel",
            "_view_count": null,
            "_view_module": "@jupyter-widgets/controls",
            "_view_module_version": "1.5.0",
            "_view_name": "ProgressView",
            "bar_style": "success",
            "description": "",
            "description_tooltip": null,
            "layout": "IPY_MODEL_765c121339614e62873570d9576ae866",
            "max": 136,
            "min": 0,
            "orientation": "horizontal",
            "style": "IPY_MODEL_c77e2b3c3ca34359860a73010cf0d51d",
            "value": 136
          }
        },
        "364e38307cc842eab835625e12f1c26c": {
          "model_module": "@jupyter-widgets/controls",
          "model_module_version": "1.5.0",
          "model_name": "ProgressStyleModel",
          "state": {
            "_model_module": "@jupyter-widgets/controls",
            "_model_module_version": "1.5.0",
            "_model_name": "ProgressStyleModel",
            "_view_count": null,
            "_view_module": "@jupyter-widgets/base",
            "_view_module_version": "1.2.0",
            "_view_name": "StyleView",
            "bar_color": null,
            "description_width": ""
          }
        },
        "3ecdb5f1b00d41ce8eba428e5c4ef667": {
          "model_module": "@jupyter-widgets/controls",
          "model_module_version": "1.5.0",
          "model_name": "HTMLModel",
          "state": {
            "_dom_classes": [],
            "_model_module": "@jupyter-widgets/controls",
            "_model_module_version": "1.5.0",
            "_model_name": "HTMLModel",
            "_view_count": null,
            "_view_module": "@jupyter-widgets/controls",
            "_view_module_version": "1.5.0",
            "_view_name": "HTMLView",
            "description": "",
            "description_tooltip": null,
            "layout": "IPY_MODEL_ec828b7ce6f14a55bf5ec56ed772775d",
            "placeholder": "​",
            "style": "IPY_MODEL_e02f204ca65043c0aa529d8f00d0f7fc",
            "value": " 136/136 [00:00&lt;00:00, 1779.24it/s]"
          }
        },
        "44ffae46281e469b986b80c074857876": {
          "model_module": "@jupyter-widgets/controls",
          "model_module_version": "1.5.0",
          "model_name": "FloatProgressModel",
          "state": {
            "_dom_classes": [],
            "_model_module": "@jupyter-widgets/controls",
            "_model_module_version": "1.5.0",
            "_model_name": "FloatProgressModel",
            "_view_count": null,
            "_view_module": "@jupyter-widgets/controls",
            "_view_module_version": "1.5.0",
            "_view_name": "ProgressView",
            "bar_style": "success",
            "description": "",
            "description_tooltip": null,
            "layout": "IPY_MODEL_0beaabe6d09847f49965e40ed7d6884f",
            "max": 36473,
            "min": 0,
            "orientation": "horizontal",
            "style": "IPY_MODEL_364e38307cc842eab835625e12f1c26c",
            "value": 36473
          }
        },
        "463be345e99d4fb4b992b844d45b44d8": {
          "model_module": "@jupyter-widgets/controls",
          "model_module_version": "1.5.0",
          "model_name": "DescriptionStyleModel",
          "state": {
            "_model_module": "@jupyter-widgets/controls",
            "_model_module_version": "1.5.0",
            "_model_name": "DescriptionStyleModel",
            "_view_count": null,
            "_view_module": "@jupyter-widgets/base",
            "_view_module_version": "1.2.0",
            "_view_name": "StyleView",
            "description_width": ""
          }
        },
        "4963ea289bbe456fac766258ffd81fc8": {
          "model_module": "@jupyter-widgets/base",
          "model_module_version": "1.2.0",
          "model_name": "LayoutModel",
          "state": {
            "_model_module": "@jupyter-widgets/base",
            "_model_module_version": "1.2.0",
            "_model_name": "LayoutModel",
            "_view_count": null,
            "_view_module": "@jupyter-widgets/base",
            "_view_module_version": "1.2.0",
            "_view_name": "LayoutView",
            "align_content": null,
            "align_items": null,
            "align_self": null,
            "border": null,
            "bottom": null,
            "display": null,
            "flex": null,
            "flex_flow": null,
            "grid_area": null,
            "grid_auto_columns": null,
            "grid_auto_flow": null,
            "grid_auto_rows": null,
            "grid_column": null,
            "grid_gap": null,
            "grid_row": null,
            "grid_template_areas": null,
            "grid_template_columns": null,
            "grid_template_rows": null,
            "height": null,
            "justify_content": null,
            "justify_items": null,
            "left": null,
            "margin": null,
            "max_height": null,
            "max_width": null,
            "min_height": null,
            "min_width": null,
            "object_fit": null,
            "object_position": null,
            "order": null,
            "overflow": null,
            "overflow_x": null,
            "overflow_y": null,
            "padding": null,
            "right": null,
            "top": null,
            "visibility": null,
            "width": null
          }
        },
        "4dc64f8e51cf4f6581d5145b7c6c35f6": {
          "model_module": "@jupyter-widgets/base",
          "model_module_version": "1.2.0",
          "model_name": "LayoutModel",
          "state": {
            "_model_module": "@jupyter-widgets/base",
            "_model_module_version": "1.2.0",
            "_model_name": "LayoutModel",
            "_view_count": null,
            "_view_module": "@jupyter-widgets/base",
            "_view_module_version": "1.2.0",
            "_view_name": "LayoutView",
            "align_content": null,
            "align_items": null,
            "align_self": null,
            "border": null,
            "bottom": null,
            "display": null,
            "flex": null,
            "flex_flow": null,
            "grid_area": null,
            "grid_auto_columns": null,
            "grid_auto_flow": null,
            "grid_auto_rows": null,
            "grid_column": null,
            "grid_gap": null,
            "grid_row": null,
            "grid_template_areas": null,
            "grid_template_columns": null,
            "grid_template_rows": null,
            "height": null,
            "justify_content": null,
            "justify_items": null,
            "left": null,
            "margin": null,
            "max_height": null,
            "max_width": null,
            "min_height": null,
            "min_width": null,
            "object_fit": null,
            "object_position": null,
            "order": null,
            "overflow": null,
            "overflow_x": null,
            "overflow_y": null,
            "padding": null,
            "right": null,
            "top": null,
            "visibility": null,
            "width": null
          }
        },
        "759b41904eb44d91a941c0a9263be021": {
          "model_module": "@jupyter-widgets/controls",
          "model_module_version": "1.5.0",
          "model_name": "HTMLModel",
          "state": {
            "_dom_classes": [],
            "_model_module": "@jupyter-widgets/controls",
            "_model_module_version": "1.5.0",
            "_model_name": "HTMLModel",
            "_view_count": null,
            "_view_module": "@jupyter-widgets/controls",
            "_view_module_version": "1.5.0",
            "_view_name": "HTMLView",
            "description": "",
            "description_tooltip": null,
            "layout": "IPY_MODEL_dfac83a056a44b8c9e9f91627cc8c5ee",
            "placeholder": "​",
            "style": "IPY_MODEL_a2f7527e9cba42ef8c79b2f2b166a038",
            "value": "100%"
          }
        },
        "765c121339614e62873570d9576ae866": {
          "model_module": "@jupyter-widgets/base",
          "model_module_version": "1.2.0",
          "model_name": "LayoutModel",
          "state": {
            "_model_module": "@jupyter-widgets/base",
            "_model_module_version": "1.2.0",
            "_model_name": "LayoutModel",
            "_view_count": null,
            "_view_module": "@jupyter-widgets/base",
            "_view_module_version": "1.2.0",
            "_view_name": "LayoutView",
            "align_content": null,
            "align_items": null,
            "align_self": null,
            "border": null,
            "bottom": null,
            "display": null,
            "flex": null,
            "flex_flow": null,
            "grid_area": null,
            "grid_auto_columns": null,
            "grid_auto_flow": null,
            "grid_auto_rows": null,
            "grid_column": null,
            "grid_gap": null,
            "grid_row": null,
            "grid_template_areas": null,
            "grid_template_columns": null,
            "grid_template_rows": null,
            "height": null,
            "justify_content": null,
            "justify_items": null,
            "left": null,
            "margin": null,
            "max_height": null,
            "max_width": null,
            "min_height": null,
            "min_width": null,
            "object_fit": null,
            "object_position": null,
            "order": null,
            "overflow": null,
            "overflow_x": null,
            "overflow_y": null,
            "padding": null,
            "right": null,
            "top": null,
            "visibility": null,
            "width": null
          }
        },
        "7780e6f907844309baabc58ea28f96ef": {
          "model_module": "@jupyter-widgets/controls",
          "model_module_version": "1.5.0",
          "model_name": "ProgressStyleModel",
          "state": {
            "_model_module": "@jupyter-widgets/controls",
            "_model_module_version": "1.5.0",
            "_model_name": "ProgressStyleModel",
            "_view_count": null,
            "_view_module": "@jupyter-widgets/base",
            "_view_module_version": "1.2.0",
            "_view_name": "StyleView",
            "bar_color": null,
            "description_width": ""
          }
        },
        "88322e65d0f84dd39a9240d3cb071f69": {
          "model_module": "@jupyter-widgets/controls",
          "model_module_version": "1.5.0",
          "model_name": "HBoxModel",
          "state": {
            "_dom_classes": [],
            "_model_module": "@jupyter-widgets/controls",
            "_model_module_version": "1.5.0",
            "_model_name": "HBoxModel",
            "_view_count": null,
            "_view_module": "@jupyter-widgets/controls",
            "_view_module_version": "1.5.0",
            "_view_name": "HBoxView",
            "box_style": "",
            "children": [
              "IPY_MODEL_759b41904eb44d91a941c0a9263be021",
              "IPY_MODEL_3144b059c05f451d9b7dc153bf09d2bb",
              "IPY_MODEL_3ecdb5f1b00d41ce8eba428e5c4ef667"
            ],
            "layout": "IPY_MODEL_dfb258a948e14def9c72a12bf9c9ba11"
          }
        },
        "8c5369f14f79429dbc66efaa99727b31": {
          "model_module": "@jupyter-widgets/controls",
          "model_module_version": "1.5.0",
          "model_name": "HTMLModel",
          "state": {
            "_dom_classes": [],
            "_model_module": "@jupyter-widgets/controls",
            "_model_module_version": "1.5.0",
            "_model_name": "HTMLModel",
            "_view_count": null,
            "_view_module": "@jupyter-widgets/controls",
            "_view_module_version": "1.5.0",
            "_view_name": "HTMLView",
            "description": "",
            "description_tooltip": null,
            "layout": "IPY_MODEL_bac8a01fc24547bd88df336b62a55d71",
            "placeholder": "​",
            "style": "IPY_MODEL_d21eb429ff4d4f4a94eafbdb14f52b7f",
            "value": " 36473/36473 [00:02&lt;00:00, 13384.76it/s]"
          }
        },
        "957e9624d0c84878aef1d9a13732157c": {
          "model_module": "@jupyter-widgets/controls",
          "model_module_version": "1.5.0",
          "model_name": "HTMLModel",
          "state": {
            "_dom_classes": [],
            "_model_module": "@jupyter-widgets/controls",
            "_model_module_version": "1.5.0",
            "_model_name": "HTMLModel",
            "_view_count": null,
            "_view_module": "@jupyter-widgets/controls",
            "_view_module_version": "1.5.0",
            "_view_name": "HTMLView",
            "description": "",
            "description_tooltip": null,
            "layout": "IPY_MODEL_f1d956c177204e66901d31b388f03813",
            "placeholder": "​",
            "style": "IPY_MODEL_463be345e99d4fb4b992b844d45b44d8",
            "value": " 36473/36473 [00:02&lt;00:00, 12790.24it/s]"
          }
        },
        "9f7051ea349b441ea1f47437a846566e": {
          "model_module": "@jupyter-widgets/controls",
          "model_module_version": "1.5.0",
          "model_name": "FloatProgressModel",
          "state": {
            "_dom_classes": [],
            "_model_module": "@jupyter-widgets/controls",
            "_model_module_version": "1.5.0",
            "_model_name": "FloatProgressModel",
            "_view_count": null,
            "_view_module": "@jupyter-widgets/controls",
            "_view_module_version": "1.5.0",
            "_view_name": "ProgressView",
            "bar_style": "success",
            "description": "",
            "description_tooltip": null,
            "layout": "IPY_MODEL_da881b3d339b4da6bf1b2e5029d348a2",
            "max": 36473,
            "min": 0,
            "orientation": "horizontal",
            "style": "IPY_MODEL_7780e6f907844309baabc58ea28f96ef",
            "value": 36473
          }
        },
        "a0035925cc1347f59748505d03120897": {
          "model_module": "@jupyter-widgets/controls",
          "model_module_version": "1.5.0",
          "model_name": "HBoxModel",
          "state": {
            "_dom_classes": [],
            "_model_module": "@jupyter-widgets/controls",
            "_model_module_version": "1.5.0",
            "_model_name": "HBoxModel",
            "_view_count": null,
            "_view_module": "@jupyter-widgets/controls",
            "_view_module_version": "1.5.0",
            "_view_name": "HBoxView",
            "box_style": "",
            "children": [
              "IPY_MODEL_20076a58b6de48c2943e8bc79b88d79f",
              "IPY_MODEL_9f7051ea349b441ea1f47437a846566e",
              "IPY_MODEL_8c5369f14f79429dbc66efaa99727b31"
            ],
            "layout": "IPY_MODEL_4963ea289bbe456fac766258ffd81fc8"
          }
        },
        "a2f7527e9cba42ef8c79b2f2b166a038": {
          "model_module": "@jupyter-widgets/controls",
          "model_module_version": "1.5.0",
          "model_name": "DescriptionStyleModel",
          "state": {
            "_model_module": "@jupyter-widgets/controls",
            "_model_module_version": "1.5.0",
            "_model_name": "DescriptionStyleModel",
            "_view_count": null,
            "_view_module": "@jupyter-widgets/base",
            "_view_module_version": "1.2.0",
            "_view_name": "StyleView",
            "description_width": ""
          }
        },
        "b1dd16db7fb14826aadf03268af06244": {
          "model_module": "@jupyter-widgets/base",
          "model_module_version": "1.2.0",
          "model_name": "LayoutModel",
          "state": {
            "_model_module": "@jupyter-widgets/base",
            "_model_module_version": "1.2.0",
            "_model_name": "LayoutModel",
            "_view_count": null,
            "_view_module": "@jupyter-widgets/base",
            "_view_module_version": "1.2.0",
            "_view_name": "LayoutView",
            "align_content": null,
            "align_items": null,
            "align_self": null,
            "border": null,
            "bottom": null,
            "display": null,
            "flex": null,
            "flex_flow": null,
            "grid_area": null,
            "grid_auto_columns": null,
            "grid_auto_flow": null,
            "grid_auto_rows": null,
            "grid_column": null,
            "grid_gap": null,
            "grid_row": null,
            "grid_template_areas": null,
            "grid_template_columns": null,
            "grid_template_rows": null,
            "height": null,
            "justify_content": null,
            "justify_items": null,
            "left": null,
            "margin": null,
            "max_height": null,
            "max_width": null,
            "min_height": null,
            "min_width": null,
            "object_fit": null,
            "object_position": null,
            "order": null,
            "overflow": null,
            "overflow_x": null,
            "overflow_y": null,
            "padding": null,
            "right": null,
            "top": null,
            "visibility": null,
            "width": null
          }
        },
        "bac8a01fc24547bd88df336b62a55d71": {
          "model_module": "@jupyter-widgets/base",
          "model_module_version": "1.2.0",
          "model_name": "LayoutModel",
          "state": {
            "_model_module": "@jupyter-widgets/base",
            "_model_module_version": "1.2.0",
            "_model_name": "LayoutModel",
            "_view_count": null,
            "_view_module": "@jupyter-widgets/base",
            "_view_module_version": "1.2.0",
            "_view_name": "LayoutView",
            "align_content": null,
            "align_items": null,
            "align_self": null,
            "border": null,
            "bottom": null,
            "display": null,
            "flex": null,
            "flex_flow": null,
            "grid_area": null,
            "grid_auto_columns": null,
            "grid_auto_flow": null,
            "grid_auto_rows": null,
            "grid_column": null,
            "grid_gap": null,
            "grid_row": null,
            "grid_template_areas": null,
            "grid_template_columns": null,
            "grid_template_rows": null,
            "height": null,
            "justify_content": null,
            "justify_items": null,
            "left": null,
            "margin": null,
            "max_height": null,
            "max_width": null,
            "min_height": null,
            "min_width": null,
            "object_fit": null,
            "object_position": null,
            "order": null,
            "overflow": null,
            "overflow_x": null,
            "overflow_y": null,
            "padding": null,
            "right": null,
            "top": null,
            "visibility": null,
            "width": null
          }
        },
        "c77e2b3c3ca34359860a73010cf0d51d": {
          "model_module": "@jupyter-widgets/controls",
          "model_module_version": "1.5.0",
          "model_name": "ProgressStyleModel",
          "state": {
            "_model_module": "@jupyter-widgets/controls",
            "_model_module_version": "1.5.0",
            "_model_name": "ProgressStyleModel",
            "_view_count": null,
            "_view_module": "@jupyter-widgets/base",
            "_view_module_version": "1.2.0",
            "_view_name": "StyleView",
            "bar_color": null,
            "description_width": ""
          }
        },
        "d21eb429ff4d4f4a94eafbdb14f52b7f": {
          "model_module": "@jupyter-widgets/controls",
          "model_module_version": "1.5.0",
          "model_name": "DescriptionStyleModel",
          "state": {
            "_model_module": "@jupyter-widgets/controls",
            "_model_module_version": "1.5.0",
            "_model_name": "DescriptionStyleModel",
            "_view_count": null,
            "_view_module": "@jupyter-widgets/base",
            "_view_module_version": "1.2.0",
            "_view_name": "StyleView",
            "description_width": ""
          }
        },
        "da2d6a44f76a4e18bbaf3df84c24a6a8": {
          "model_module": "@jupyter-widgets/base",
          "model_module_version": "1.2.0",
          "model_name": "LayoutModel",
          "state": {
            "_model_module": "@jupyter-widgets/base",
            "_model_module_version": "1.2.0",
            "_model_name": "LayoutModel",
            "_view_count": null,
            "_view_module": "@jupyter-widgets/base",
            "_view_module_version": "1.2.0",
            "_view_name": "LayoutView",
            "align_content": null,
            "align_items": null,
            "align_self": null,
            "border": null,
            "bottom": null,
            "display": null,
            "flex": null,
            "flex_flow": null,
            "grid_area": null,
            "grid_auto_columns": null,
            "grid_auto_flow": null,
            "grid_auto_rows": null,
            "grid_column": null,
            "grid_gap": null,
            "grid_row": null,
            "grid_template_areas": null,
            "grid_template_columns": null,
            "grid_template_rows": null,
            "height": null,
            "justify_content": null,
            "justify_items": null,
            "left": null,
            "margin": null,
            "max_height": null,
            "max_width": null,
            "min_height": null,
            "min_width": null,
            "object_fit": null,
            "object_position": null,
            "order": null,
            "overflow": null,
            "overflow_x": null,
            "overflow_y": null,
            "padding": null,
            "right": null,
            "top": null,
            "visibility": null,
            "width": null
          }
        },
        "da881b3d339b4da6bf1b2e5029d348a2": {
          "model_module": "@jupyter-widgets/base",
          "model_module_version": "1.2.0",
          "model_name": "LayoutModel",
          "state": {
            "_model_module": "@jupyter-widgets/base",
            "_model_module_version": "1.2.0",
            "_model_name": "LayoutModel",
            "_view_count": null,
            "_view_module": "@jupyter-widgets/base",
            "_view_module_version": "1.2.0",
            "_view_name": "LayoutView",
            "align_content": null,
            "align_items": null,
            "align_self": null,
            "border": null,
            "bottom": null,
            "display": null,
            "flex": null,
            "flex_flow": null,
            "grid_area": null,
            "grid_auto_columns": null,
            "grid_auto_flow": null,
            "grid_auto_rows": null,
            "grid_column": null,
            "grid_gap": null,
            "grid_row": null,
            "grid_template_areas": null,
            "grid_template_columns": null,
            "grid_template_rows": null,
            "height": null,
            "justify_content": null,
            "justify_items": null,
            "left": null,
            "margin": null,
            "max_height": null,
            "max_width": null,
            "min_height": null,
            "min_width": null,
            "object_fit": null,
            "object_position": null,
            "order": null,
            "overflow": null,
            "overflow_x": null,
            "overflow_y": null,
            "padding": null,
            "right": null,
            "top": null,
            "visibility": null,
            "width": null
          }
        },
        "dfac83a056a44b8c9e9f91627cc8c5ee": {
          "model_module": "@jupyter-widgets/base",
          "model_module_version": "1.2.0",
          "model_name": "LayoutModel",
          "state": {
            "_model_module": "@jupyter-widgets/base",
            "_model_module_version": "1.2.0",
            "_model_name": "LayoutModel",
            "_view_count": null,
            "_view_module": "@jupyter-widgets/base",
            "_view_module_version": "1.2.0",
            "_view_name": "LayoutView",
            "align_content": null,
            "align_items": null,
            "align_self": null,
            "border": null,
            "bottom": null,
            "display": null,
            "flex": null,
            "flex_flow": null,
            "grid_area": null,
            "grid_auto_columns": null,
            "grid_auto_flow": null,
            "grid_auto_rows": null,
            "grid_column": null,
            "grid_gap": null,
            "grid_row": null,
            "grid_template_areas": null,
            "grid_template_columns": null,
            "grid_template_rows": null,
            "height": null,
            "justify_content": null,
            "justify_items": null,
            "left": null,
            "margin": null,
            "max_height": null,
            "max_width": null,
            "min_height": null,
            "min_width": null,
            "object_fit": null,
            "object_position": null,
            "order": null,
            "overflow": null,
            "overflow_x": null,
            "overflow_y": null,
            "padding": null,
            "right": null,
            "top": null,
            "visibility": null,
            "width": null
          }
        },
        "dfb258a948e14def9c72a12bf9c9ba11": {
          "model_module": "@jupyter-widgets/base",
          "model_module_version": "1.2.0",
          "model_name": "LayoutModel",
          "state": {
            "_model_module": "@jupyter-widgets/base",
            "_model_module_version": "1.2.0",
            "_model_name": "LayoutModel",
            "_view_count": null,
            "_view_module": "@jupyter-widgets/base",
            "_view_module_version": "1.2.0",
            "_view_name": "LayoutView",
            "align_content": null,
            "align_items": null,
            "align_self": null,
            "border": null,
            "bottom": null,
            "display": null,
            "flex": null,
            "flex_flow": null,
            "grid_area": null,
            "grid_auto_columns": null,
            "grid_auto_flow": null,
            "grid_auto_rows": null,
            "grid_column": null,
            "grid_gap": null,
            "grid_row": null,
            "grid_template_areas": null,
            "grid_template_columns": null,
            "grid_template_rows": null,
            "height": null,
            "justify_content": null,
            "justify_items": null,
            "left": null,
            "margin": null,
            "max_height": null,
            "max_width": null,
            "min_height": null,
            "min_width": null,
            "object_fit": null,
            "object_position": null,
            "order": null,
            "overflow": null,
            "overflow_x": null,
            "overflow_y": null,
            "padding": null,
            "right": null,
            "top": null,
            "visibility": null,
            "width": null
          }
        },
        "e02f204ca65043c0aa529d8f00d0f7fc": {
          "model_module": "@jupyter-widgets/controls",
          "model_module_version": "1.5.0",
          "model_name": "DescriptionStyleModel",
          "state": {
            "_model_module": "@jupyter-widgets/controls",
            "_model_module_version": "1.5.0",
            "_model_name": "DescriptionStyleModel",
            "_view_count": null,
            "_view_module": "@jupyter-widgets/base",
            "_view_module_version": "1.2.0",
            "_view_name": "StyleView",
            "description_width": ""
          }
        },
        "eb4b1c7049224cf8a0707fe5d85f759b": {
          "model_module": "@jupyter-widgets/controls",
          "model_module_version": "1.5.0",
          "model_name": "HTMLModel",
          "state": {
            "_dom_classes": [],
            "_model_module": "@jupyter-widgets/controls",
            "_model_module_version": "1.5.0",
            "_model_name": "HTMLModel",
            "_view_count": null,
            "_view_module": "@jupyter-widgets/controls",
            "_view_module_version": "1.5.0",
            "_view_name": "HTMLView",
            "description": "",
            "description_tooltip": null,
            "layout": "IPY_MODEL_b1dd16db7fb14826aadf03268af06244",
            "placeholder": "​",
            "style": "IPY_MODEL_048d7520014a4f5b82731134c9555f3f",
            "value": "100%"
          }
        },
        "ec828b7ce6f14a55bf5ec56ed772775d": {
          "model_module": "@jupyter-widgets/base",
          "model_module_version": "1.2.0",
          "model_name": "LayoutModel",
          "state": {
            "_model_module": "@jupyter-widgets/base",
            "_model_module_version": "1.2.0",
            "_model_name": "LayoutModel",
            "_view_count": null,
            "_view_module": "@jupyter-widgets/base",
            "_view_module_version": "1.2.0",
            "_view_name": "LayoutView",
            "align_content": null,
            "align_items": null,
            "align_self": null,
            "border": null,
            "bottom": null,
            "display": null,
            "flex": null,
            "flex_flow": null,
            "grid_area": null,
            "grid_auto_columns": null,
            "grid_auto_flow": null,
            "grid_auto_rows": null,
            "grid_column": null,
            "grid_gap": null,
            "grid_row": null,
            "grid_template_areas": null,
            "grid_template_columns": null,
            "grid_template_rows": null,
            "height": null,
            "justify_content": null,
            "justify_items": null,
            "left": null,
            "margin": null,
            "max_height": null,
            "max_width": null,
            "min_height": null,
            "min_width": null,
            "object_fit": null,
            "object_position": null,
            "order": null,
            "overflow": null,
            "overflow_x": null,
            "overflow_y": null,
            "padding": null,
            "right": null,
            "top": null,
            "visibility": null,
            "width": null
          }
        },
        "f1d956c177204e66901d31b388f03813": {
          "model_module": "@jupyter-widgets/base",
          "model_module_version": "1.2.0",
          "model_name": "LayoutModel",
          "state": {
            "_model_module": "@jupyter-widgets/base",
            "_model_module_version": "1.2.0",
            "_model_name": "LayoutModel",
            "_view_count": null,
            "_view_module": "@jupyter-widgets/base",
            "_view_module_version": "1.2.0",
            "_view_name": "LayoutView",
            "align_content": null,
            "align_items": null,
            "align_self": null,
            "border": null,
            "bottom": null,
            "display": null,
            "flex": null,
            "flex_flow": null,
            "grid_area": null,
            "grid_auto_columns": null,
            "grid_auto_flow": null,
            "grid_auto_rows": null,
            "grid_column": null,
            "grid_gap": null,
            "grid_row": null,
            "grid_template_areas": null,
            "grid_template_columns": null,
            "grid_template_rows": null,
            "height": null,
            "justify_content": null,
            "justify_items": null,
            "left": null,
            "margin": null,
            "max_height": null,
            "max_width": null,
            "min_height": null,
            "min_width": null,
            "object_fit": null,
            "object_position": null,
            "order": null,
            "overflow": null,
            "overflow_x": null,
            "overflow_y": null,
            "padding": null,
            "right": null,
            "top": null,
            "visibility": null,
            "width": null
          }
        }
      }
    }
  },
  "nbformat": 4,
  "nbformat_minor": 0
}